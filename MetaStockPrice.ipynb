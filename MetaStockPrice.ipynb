{
  "cells": [
    {
      "cell_type": "code",
      "execution_count": null,
      "id": "84e2ee23",
      "metadata": {
        "colab": {
          "base_uri": "https://localhost:8080/"
        },
        "id": "84e2ee23",
        "outputId": "6c0a7e18-aa8b-44ed-a624-93beda798175"
      },
      "outputs": [
        {
          "name": "stdout",
          "output_type": "stream",
          "text": [
            "Drive already mounted at /content/drive; to attempt to forcibly remount, call drive.mount(\"/content/drive\", force_remount=True).\n"
          ]
        }
      ],
      "source": [
        "import os\n",
        "import os.path\n",
        "import time\n",
        "from datetime import datetime\n",
        "\n",
        "import numpy as np\n",
        "import pandas as pd\n",
        "import seaborn as sns\n",
        "import matplotlib.pyplot as plt\n",
        "\n",
        "import tensorflow as tf\n",
        "\n",
        "from sklearn.model_selection import train_test_split\n",
        "from sklearn.preprocessing import StandardScaler\n",
        "\n",
        "from google.colab import drive\n",
        "drive.mount('/content/drive')"
      ]
    },
    {
      "cell_type": "code",
      "execution_count": null,
      "id": "z1W2k_1Yufbz",
      "metadata": {
        "colab": {
          "base_uri": "https://localhost:8080/",
          "height": 35
        },
        "id": "z1W2k_1Yufbz",
        "outputId": "f21bdb2c-f32d-4b2c-9954-c7933a169483"
      },
      "outputs": [
        {
          "data": {
            "application/vnd.google.colaboratory.intrinsic+json": {
              "type": "string"
            },
            "text/plain": [
              "'/content'"
            ]
          },
          "execution_count": 2,
          "metadata": {},
          "output_type": "execute_result"
        }
      ],
      "source": [
        "os.getcwd()"
      ]
    },
    {
      "cell_type": "code",
      "execution_count": null,
      "id": "0ce093a2",
      "metadata": {
        "id": "0ce093a2"
      },
      "outputs": [],
      "source": [
        "data_path = '/content/drive/My Drive'\n"
      ]
    },
    {
      "cell_type": "code",
      "execution_count": null,
      "id": "zM2tMMD2uEb5",
      "metadata": {
        "id": "zM2tMMD2uEb5"
      },
      "outputs": [],
      "source": [
        "meta = pd.read_csv(os.path.join(data_path, 'meta.csv'))"
      ]
    },
    {
      "cell_type": "markdown",
      "id": "e481138f",
      "metadata": {
        "id": "e481138f"
      },
      "source": [
        "# Data Cleaning"
      ]
    },
    {
      "cell_type": "code",
      "execution_count": null,
      "id": "3cf772e6",
      "metadata": {
        "colab": {
          "base_uri": "https://localhost:8080/",
          "height": 226
        },
        "id": "3cf772e6",
        "outputId": "1eb01b06-6a5e-49a6-f602-26a11ccd93fe",
        "scrolled": true
      },
      "outputs": [
        {
          "data": {
            "application/vnd.google.colaboratory.intrinsic+json": {
              "summary": "{\n  \"name\": \"meta\",\n  \"rows\": 2516,\n  \"fields\": [\n    {\n      \"column\": \"date\",\n      \"properties\": {\n        \"dtype\": \"object\",\n        \"num_unique_values\": 2516,\n        \"samples\": [\n          \"6/15/16\",\n          \"9/7/17\",\n          \"9/28/17\"\n        ],\n        \"semantic_type\": \"\",\n        \"description\": \"\"\n      }\n    },\n    {\n      \"column\": \"open\",\n      \"properties\": {\n        \"dtype\": \"number\",\n        \"std\": 81.12372041543935,\n        \"min\": 54.02,\n        \"max\": 381.679993,\n        \"num_unique_values\": 2349,\n        \"samples\": [\n          198.839996,\n          131.410004,\n          161.729996\n        ],\n        \"semantic_type\": \"\",\n        \"description\": \"\"\n      }\n    },\n    {\n      \"column\": \"high\",\n      \"properties\": {\n        \"dtype\": \"number\",\n        \"std\": 82.20095187883302,\n        \"min\": 54.939999,\n        \"max\": 384.329987,\n        \"num_unique_values\": 2360,\n        \"samples\": [\n          126.730003,\n          108.910004,\n          249.589996\n        ],\n        \"semantic_type\": \"\",\n        \"description\": \"\"\n      }\n    },\n    {\n      \"column\": \"low\",\n      \"properties\": {\n        \"dtype\": \"number\",\n        \"std\": 80.11821577248341,\n        \"min\": 51.849998,\n        \"max\": 378.809998,\n        \"num_unique_values\": 2367,\n        \"samples\": [\n          208.440002,\n          268.119995,\n          117.949997\n        ],\n        \"semantic_type\": \"\",\n        \"description\": \"\"\n      }\n    },\n    {\n      \"column\": \"close\",\n      \"properties\": {\n        \"dtype\": \"number\",\n        \"std\": 81.16665254020465,\n        \"min\": 53.529999,\n        \"max\": 382.179993,\n        \"num_unique_values\": 2387,\n        \"samples\": [\n          169.490005,\n          176.029999,\n          162.929993\n        ],\n        \"semantic_type\": \"\",\n        \"description\": \"\"\n      }\n    },\n    {\n      \"column\": \"volume\",\n      \"properties\": {\n        \"dtype\": \"number\",\n        \"std\": 17824602,\n        \"min\": 5467500,\n        \"max\": 232316600,\n        \"num_unique_values\": 2509,\n        \"samples\": [\n          21806300,\n          25254400,\n          25414300\n        ],\n        \"semantic_type\": \"\",\n        \"description\": \"\"\n      }\n    },\n    {\n      \"column\": \"rsi_7\",\n      \"properties\": {\n        \"dtype\": \"number\",\n        \"std\": 15.808831471369379,\n        \"min\": 14.083263477727456,\n        \"max\": 93.57956171000552,\n        \"num_unique_values\": 2511,\n        \"samples\": [\n          52.68815404308389,\n          24.42768973674957,\n          64.26953243134075\n        ],\n        \"semantic_type\": \"\",\n        \"description\": \"\"\n      }\n    },\n    {\n      \"column\": \"rsi_14\",\n      \"properties\": {\n        \"dtype\": \"number\",\n        \"std\": 11.486579848373717,\n        \"min\": 21.93420227494396,\n        \"max\": 86.06537118437959,\n        \"num_unique_values\": 2509,\n        \"samples\": [\n          40.381707094347256,\n          64.36812573802769,\n          59.20001264152175\n        ],\n        \"semantic_type\": \"\",\n        \"description\": \"\"\n      }\n    },\n    {\n      \"column\": \"cci_7\",\n      \"properties\": {\n        \"dtype\": \"number\",\n        \"std\": 99.50660710446955,\n        \"min\": -233.3333333,\n        \"max\": 233.33333333333707,\n        \"num_unique_values\": 2512,\n        \"samples\": [\n          -102.2538612,\n          -30.58850851,\n          -53.71684823\n        ],\n        \"semantic_type\": \"\",\n        \"description\": \"\"\n      }\n    },\n    {\n      \"column\": \"cci_14\",\n      \"properties\": {\n        \"dtype\": \"number\",\n        \"std\": 107.43127036608517,\n        \"min\": -422.4797826,\n        \"max\": 418.4998301,\n        \"num_unique_values\": 2516,\n        \"samples\": [\n          -135.2091215,\n          118.27059578653738,\n          -51.76196801\n        ],\n        \"semantic_type\": \"\",\n        \"description\": \"\"\n      }\n    },\n    {\n      \"column\": \"sma_50\",\n      \"properties\": {\n        \"dtype\": \"number\",\n        \"std\": 79.62148449017909,\n        \"min\": 50.28180016,\n        \"max\": 363.7544012,\n        \"num_unique_values\": 2516,\n        \"samples\": [\n          115.74679928000002,\n          164.8925998,\n          169.3923999\n        ],\n        \"semantic_type\": \"\",\n        \"description\": \"\"\n      }\n    },\n    {\n      \"column\": \"ema_50\",\n      \"properties\": {\n        \"dtype\": \"number\",\n        \"std\": 79.101923415379,\n        \"min\": 50.74094592520254,\n        \"max\": 362.9570614817479,\n        \"num_unique_values\": 2516,\n        \"samples\": [\n          115.68843116514206,\n          165.21083651522676,\n          167.29471125099136\n        ],\n        \"semantic_type\": \"\",\n        \"description\": \"\"\n      }\n    },\n    {\n      \"column\": \"sma_100\",\n      \"properties\": {\n        \"dtype\": \"number\",\n        \"std\": 78.2466308286854,\n        \"min\": 47.66540003,\n        \"max\": 351.0299012,\n        \"num_unique_values\": 2516,\n        \"samples\": [\n          111.9387996,\n          157.4745004,\n          160.8399001\n        ],\n        \"semantic_type\": \"\",\n        \"description\": \"\"\n      }\n    },\n    {\n      \"column\": \"ema_100\",\n      \"properties\": {\n        \"dtype\": \"number\",\n        \"std\": 77.12006980481013,\n        \"min\": 46.91455502781094,\n        \"max\": 347.2137365,\n        \"num_unique_values\": 2516,\n        \"samples\": [\n          112.33948665246402,\n          158.2760123854681,\n          161.31793492420704\n        ],\n        \"semantic_type\": \"\",\n        \"description\": \"\"\n      }\n    },\n    {\n      \"column\": \"macd\",\n      \"properties\": {\n        \"dtype\": \"number\",\n        \"std\": 4.8692744205461596,\n        \"min\": -29.04631132,\n        \"max\": 15.623523635920122,\n        \"num_unique_values\": 2516,\n        \"samples\": [\n          -0.251740977,\n          1.697831138658671,\n          -0.374267805\n        ],\n        \"semantic_type\": \"\",\n        \"description\": \"\"\n      }\n    },\n    {\n      \"column\": \"bollinger\",\n      \"properties\": {\n        \"dtype\": \"number\",\n        \"std\": 80.479296962335,\n        \"min\": 53.24499995,\n        \"max\": 373.4220033,\n        \"num_unique_values\": 2512,\n        \"samples\": [\n          220.786502,\n          90.69000085,\n          275.2534974\n        ],\n        \"semantic_type\": \"\",\n        \"description\": \"\"\n      }\n    },\n    {\n      \"column\": \"TrueRange\",\n      \"properties\": {\n        \"dtype\": \"number\",\n        \"std\": 4.338035102938402,\n        \"min\": 0.5299990000000037,\n        \"max\": 87.25,\n        \"num_unique_values\": 1942,\n        \"samples\": [\n          9.280013999999994,\n          3.019988999999981,\n          2.670002000000004\n        ],\n        \"semantic_type\": \"\",\n        \"description\": \"\"\n      }\n    },\n    {\n      \"column\": \"atr_7\",\n      \"properties\": {\n        \"dtype\": \"number\",\n        \"std\": 3.0450836668289396,\n        \"min\": 1.0959186351111776,\n        \"max\": 22.274681655651797,\n        \"num_unique_values\": 2516,\n        \"samples\": [\n          1.6609525234465723,\n          2.5432850095496016,\n          3.170156038965967\n        ],\n        \"semantic_type\": \"\",\n        \"description\": \"\"\n      }\n    },\n    {\n      \"column\": \"atr_14\",\n      \"properties\": {\n        \"dtype\": \"number\",\n        \"std\": 2.9124254409859653,\n        \"min\": 1.276304250588509,\n        \"max\": 16.66516739474988,\n        \"num_unique_values\": 2516,\n        \"samples\": [\n          1.7535217796587017,\n          2.5540179808014942,\n          2.912744916593695\n        ],\n        \"semantic_type\": \"\",\n        \"description\": \"\"\n      }\n    }\n  ]\n}",
              "type": "dataframe",
              "variable_name": "meta"
            },
            "text/html": [
              "\n",
              "  <div id=\"df-8fbbf3c5-26b8-45dc-bed5-aa3dfae2e389\" class=\"colab-df-container\">\n",
              "    <div>\n",
              "<style scoped>\n",
              "    .dataframe tbody tr th:only-of-type {\n",
              "        vertical-align: middle;\n",
              "    }\n",
              "\n",
              "    .dataframe tbody tr th {\n",
              "        vertical-align: top;\n",
              "    }\n",
              "\n",
              "    .dataframe thead th {\n",
              "        text-align: right;\n",
              "    }\n",
              "</style>\n",
              "<table border=\"1\" class=\"dataframe\">\n",
              "  <thead>\n",
              "    <tr style=\"text-align: right;\">\n",
              "      <th></th>\n",
              "      <th>date</th>\n",
              "      <th>open</th>\n",
              "      <th>high</th>\n",
              "      <th>low</th>\n",
              "      <th>close</th>\n",
              "      <th>volume</th>\n",
              "      <th>rsi_7</th>\n",
              "      <th>rsi_14</th>\n",
              "      <th>cci_7</th>\n",
              "      <th>cci_14</th>\n",
              "      <th>sma_50</th>\n",
              "      <th>ema_50</th>\n",
              "      <th>sma_100</th>\n",
              "      <th>ema_100</th>\n",
              "      <th>macd</th>\n",
              "      <th>bollinger</th>\n",
              "      <th>TrueRange</th>\n",
              "      <th>atr_7</th>\n",
              "      <th>atr_14</th>\n",
              "    </tr>\n",
              "  </thead>\n",
              "  <tbody>\n",
              "    <tr>\n",
              "      <th>0</th>\n",
              "      <td>1/2/14</td>\n",
              "      <td>54.830002</td>\n",
              "      <td>55.220001</td>\n",
              "      <td>54.189999</td>\n",
              "      <td>54.709999</td>\n",
              "      <td>43195500</td>\n",
              "      <td>51.917475</td>\n",
              "      <td>58.077822</td>\n",
              "      <td>-64.312117</td>\n",
              "      <td>-13.517101</td>\n",
              "      <td>50.2818</td>\n",
              "      <td>50.740946</td>\n",
              "      <td>47.6654</td>\n",
              "      <td>46.914555</td>\n",
              "      <td>1.828901</td>\n",
              "      <td>53.2450</td>\n",
              "      <td>1.030002</td>\n",
              "      <td>1.652052</td>\n",
              "      <td>1.710739</td>\n",
              "    </tr>\n",
              "    <tr>\n",
              "      <th>1</th>\n",
              "      <td>1/3/14</td>\n",
              "      <td>55.020000</td>\n",
              "      <td>55.650002</td>\n",
              "      <td>54.529999</td>\n",
              "      <td>54.560001</td>\n",
              "      <td>38246200</td>\n",
              "      <td>50.604988</td>\n",
              "      <td>57.387622</td>\n",
              "      <td>-40.054734</td>\n",
              "      <td>-17.361247</td>\n",
              "      <td>50.3194</td>\n",
              "      <td>50.890719</td>\n",
              "      <td>47.8288</td>\n",
              "      <td>47.066897</td>\n",
              "      <td>1.687987</td>\n",
              "      <td>53.5420</td>\n",
              "      <td>1.120003</td>\n",
              "      <td>1.576045</td>\n",
              "      <td>1.668543</td>\n",
              "    </tr>\n",
              "    <tr>\n",
              "      <th>2</th>\n",
              "      <td>1/6/14</td>\n",
              "      <td>54.419998</td>\n",
              "      <td>57.259998</td>\n",
              "      <td>54.049999</td>\n",
              "      <td>57.200001</td>\n",
              "      <td>68852600</td>\n",
              "      <td>67.483917</td>\n",
              "      <td>65.221525</td>\n",
              "      <td>43.907749</td>\n",
              "      <td>42.364730</td>\n",
              "      <td>50.4254</td>\n",
              "      <td>51.138151</td>\n",
              "      <td>48.0306</td>\n",
              "      <td>47.268784</td>\n",
              "      <td>1.768947</td>\n",
              "      <td>53.9850</td>\n",
              "      <td>3.209999</td>\n",
              "      <td>1.809467</td>\n",
              "      <td>1.778647</td>\n",
              "    </tr>\n",
              "    <tr>\n",
              "      <th>3</th>\n",
              "      <td>1/7/14</td>\n",
              "      <td>57.700001</td>\n",
              "      <td>58.549999</td>\n",
              "      <td>57.220001</td>\n",
              "      <td>57.919998</td>\n",
              "      <td>77207400</td>\n",
              "      <td>70.672584</td>\n",
              "      <td>67.003189</td>\n",
              "      <td>150.620136</td>\n",
              "      <td>117.886980</td>\n",
              "      <td>50.5348</td>\n",
              "      <td>51.404115</td>\n",
              "      <td>48.2433</td>\n",
              "      <td>47.480966</td>\n",
              "      <td>1.869653</td>\n",
              "      <td>54.4840</td>\n",
              "      <td>1.349998</td>\n",
              "      <td>1.743829</td>\n",
              "      <td>1.748030</td>\n",
              "    </tr>\n",
              "    <tr>\n",
              "      <th>4</th>\n",
              "      <td>1/8/14</td>\n",
              "      <td>57.599998</td>\n",
              "      <td>58.410000</td>\n",
              "      <td>57.230000</td>\n",
              "      <td>58.230000</td>\n",
              "      <td>56682400</td>\n",
              "      <td>72.049420</td>\n",
              "      <td>67.768804</td>\n",
              "      <td>107.795942</td>\n",
              "      <td>101.415192</td>\n",
              "      <td>50.6604</td>\n",
              "      <td>51.671806</td>\n",
              "      <td>48.4600</td>\n",
              "      <td>47.695073</td>\n",
              "      <td>1.951977</td>\n",
              "      <td>54.9535</td>\n",
              "      <td>1.180000</td>\n",
              "      <td>1.663282</td>\n",
              "      <td>1.707456</td>\n",
              "    </tr>\n",
              "  </tbody>\n",
              "</table>\n",
              "</div>\n",
              "    <div class=\"colab-df-buttons\">\n",
              "\n",
              "  <div class=\"colab-df-container\">\n",
              "    <button class=\"colab-df-convert\" onclick=\"convertToInteractive('df-8fbbf3c5-26b8-45dc-bed5-aa3dfae2e389')\"\n",
              "            title=\"Convert this dataframe to an interactive table.\"\n",
              "            style=\"display:none;\">\n",
              "\n",
              "  <svg xmlns=\"http://www.w3.org/2000/svg\" height=\"24px\" viewBox=\"0 -960 960 960\">\n",
              "    <path d=\"M120-120v-720h720v720H120Zm60-500h600v-160H180v160Zm220 220h160v-160H400v160Zm0 220h160v-160H400v160ZM180-400h160v-160H180v160Zm440 0h160v-160H620v160ZM180-180h160v-160H180v160Zm440 0h160v-160H620v160Z\"/>\n",
              "  </svg>\n",
              "    </button>\n",
              "\n",
              "  <style>\n",
              "    .colab-df-container {\n",
              "      display:flex;\n",
              "      gap: 12px;\n",
              "    }\n",
              "\n",
              "    .colab-df-convert {\n",
              "      background-color: #E8F0FE;\n",
              "      border: none;\n",
              "      border-radius: 50%;\n",
              "      cursor: pointer;\n",
              "      display: none;\n",
              "      fill: #1967D2;\n",
              "      height: 32px;\n",
              "      padding: 0 0 0 0;\n",
              "      width: 32px;\n",
              "    }\n",
              "\n",
              "    .colab-df-convert:hover {\n",
              "      background-color: #E2EBFA;\n",
              "      box-shadow: 0px 1px 2px rgba(60, 64, 67, 0.3), 0px 1px 3px 1px rgba(60, 64, 67, 0.15);\n",
              "      fill: #174EA6;\n",
              "    }\n",
              "\n",
              "    .colab-df-buttons div {\n",
              "      margin-bottom: 4px;\n",
              "    }\n",
              "\n",
              "    [theme=dark] .colab-df-convert {\n",
              "      background-color: #3B4455;\n",
              "      fill: #D2E3FC;\n",
              "    }\n",
              "\n",
              "    [theme=dark] .colab-df-convert:hover {\n",
              "      background-color: #434B5C;\n",
              "      box-shadow: 0px 1px 3px 1px rgba(0, 0, 0, 0.15);\n",
              "      filter: drop-shadow(0px 1px 2px rgba(0, 0, 0, 0.3));\n",
              "      fill: #FFFFFF;\n",
              "    }\n",
              "  </style>\n",
              "\n",
              "    <script>\n",
              "      const buttonEl =\n",
              "        document.querySelector('#df-8fbbf3c5-26b8-45dc-bed5-aa3dfae2e389 button.colab-df-convert');\n",
              "      buttonEl.style.display =\n",
              "        google.colab.kernel.accessAllowed ? 'block' : 'none';\n",
              "\n",
              "      async function convertToInteractive(key) {\n",
              "        const element = document.querySelector('#df-8fbbf3c5-26b8-45dc-bed5-aa3dfae2e389');\n",
              "        const dataTable =\n",
              "          await google.colab.kernel.invokeFunction('convertToInteractive',\n",
              "                                                    [key], {});\n",
              "        if (!dataTable) return;\n",
              "\n",
              "        const docLinkHtml = 'Like what you see? Visit the ' +\n",
              "          '<a target=\"_blank\" href=https://colab.research.google.com/notebooks/data_table.ipynb>data table notebook</a>'\n",
              "          + ' to learn more about interactive tables.';\n",
              "        element.innerHTML = '';\n",
              "        dataTable['output_type'] = 'display_data';\n",
              "        await google.colab.output.renderOutput(dataTable, element);\n",
              "        const docLink = document.createElement('div');\n",
              "        docLink.innerHTML = docLinkHtml;\n",
              "        element.appendChild(docLink);\n",
              "      }\n",
              "    </script>\n",
              "  </div>\n",
              "\n",
              "\n",
              "<div id=\"df-f626bdf8-6320-4d22-b7bb-3198681f78b8\">\n",
              "  <button class=\"colab-df-quickchart\" onclick=\"quickchart('df-f626bdf8-6320-4d22-b7bb-3198681f78b8')\"\n",
              "            title=\"Suggest charts\"\n",
              "            style=\"display:none;\">\n",
              "\n",
              "<svg xmlns=\"http://www.w3.org/2000/svg\" height=\"24px\"viewBox=\"0 0 24 24\"\n",
              "     width=\"24px\">\n",
              "    <g>\n",
              "        <path d=\"M19 3H5c-1.1 0-2 .9-2 2v14c0 1.1.9 2 2 2h14c1.1 0 2-.9 2-2V5c0-1.1-.9-2-2-2zM9 17H7v-7h2v7zm4 0h-2V7h2v10zm4 0h-2v-4h2v4z\"/>\n",
              "    </g>\n",
              "</svg>\n",
              "  </button>\n",
              "\n",
              "<style>\n",
              "  .colab-df-quickchart {\n",
              "      --bg-color: #E8F0FE;\n",
              "      --fill-color: #1967D2;\n",
              "      --hover-bg-color: #E2EBFA;\n",
              "      --hover-fill-color: #174EA6;\n",
              "      --disabled-fill-color: #AAA;\n",
              "      --disabled-bg-color: #DDD;\n",
              "  }\n",
              "\n",
              "  [theme=dark] .colab-df-quickchart {\n",
              "      --bg-color: #3B4455;\n",
              "      --fill-color: #D2E3FC;\n",
              "      --hover-bg-color: #434B5C;\n",
              "      --hover-fill-color: #FFFFFF;\n",
              "      --disabled-bg-color: #3B4455;\n",
              "      --disabled-fill-color: #666;\n",
              "  }\n",
              "\n",
              "  .colab-df-quickchart {\n",
              "    background-color: var(--bg-color);\n",
              "    border: none;\n",
              "    border-radius: 50%;\n",
              "    cursor: pointer;\n",
              "    display: none;\n",
              "    fill: var(--fill-color);\n",
              "    height: 32px;\n",
              "    padding: 0;\n",
              "    width: 32px;\n",
              "  }\n",
              "\n",
              "  .colab-df-quickchart:hover {\n",
              "    background-color: var(--hover-bg-color);\n",
              "    box-shadow: 0 1px 2px rgba(60, 64, 67, 0.3), 0 1px 3px 1px rgba(60, 64, 67, 0.15);\n",
              "    fill: var(--button-hover-fill-color);\n",
              "  }\n",
              "\n",
              "  .colab-df-quickchart-complete:disabled,\n",
              "  .colab-df-quickchart-complete:disabled:hover {\n",
              "    background-color: var(--disabled-bg-color);\n",
              "    fill: var(--disabled-fill-color);\n",
              "    box-shadow: none;\n",
              "  }\n",
              "\n",
              "  .colab-df-spinner {\n",
              "    border: 2px solid var(--fill-color);\n",
              "    border-color: transparent;\n",
              "    border-bottom-color: var(--fill-color);\n",
              "    animation:\n",
              "      spin 1s steps(1) infinite;\n",
              "  }\n",
              "\n",
              "  @keyframes spin {\n",
              "    0% {\n",
              "      border-color: transparent;\n",
              "      border-bottom-color: var(--fill-color);\n",
              "      border-left-color: var(--fill-color);\n",
              "    }\n",
              "    20% {\n",
              "      border-color: transparent;\n",
              "      border-left-color: var(--fill-color);\n",
              "      border-top-color: var(--fill-color);\n",
              "    }\n",
              "    30% {\n",
              "      border-color: transparent;\n",
              "      border-left-color: var(--fill-color);\n",
              "      border-top-color: var(--fill-color);\n",
              "      border-right-color: var(--fill-color);\n",
              "    }\n",
              "    40% {\n",
              "      border-color: transparent;\n",
              "      border-right-color: var(--fill-color);\n",
              "      border-top-color: var(--fill-color);\n",
              "    }\n",
              "    60% {\n",
              "      border-color: transparent;\n",
              "      border-right-color: var(--fill-color);\n",
              "    }\n",
              "    80% {\n",
              "      border-color: transparent;\n",
              "      border-right-color: var(--fill-color);\n",
              "      border-bottom-color: var(--fill-color);\n",
              "    }\n",
              "    90% {\n",
              "      border-color: transparent;\n",
              "      border-bottom-color: var(--fill-color);\n",
              "    }\n",
              "  }\n",
              "</style>\n",
              "\n",
              "  <script>\n",
              "    async function quickchart(key) {\n",
              "      const quickchartButtonEl =\n",
              "        document.querySelector('#' + key + ' button');\n",
              "      quickchartButtonEl.disabled = true;  // To prevent multiple clicks.\n",
              "      quickchartButtonEl.classList.add('colab-df-spinner');\n",
              "      try {\n",
              "        const charts = await google.colab.kernel.invokeFunction(\n",
              "            'suggestCharts', [key], {});\n",
              "      } catch (error) {\n",
              "        console.error('Error during call to suggestCharts:', error);\n",
              "      }\n",
              "      quickchartButtonEl.classList.remove('colab-df-spinner');\n",
              "      quickchartButtonEl.classList.add('colab-df-quickchart-complete');\n",
              "    }\n",
              "    (() => {\n",
              "      let quickchartButtonEl =\n",
              "        document.querySelector('#df-f626bdf8-6320-4d22-b7bb-3198681f78b8 button');\n",
              "      quickchartButtonEl.style.display =\n",
              "        google.colab.kernel.accessAllowed ? 'block' : 'none';\n",
              "    })();\n",
              "  </script>\n",
              "</div>\n",
              "    </div>\n",
              "  </div>\n"
            ],
            "text/plain": [
              "     date       open       high        low      close    volume      rsi_7  \\\n",
              "0  1/2/14  54.830002  55.220001  54.189999  54.709999  43195500  51.917475   \n",
              "1  1/3/14  55.020000  55.650002  54.529999  54.560001  38246200  50.604988   \n",
              "2  1/6/14  54.419998  57.259998  54.049999  57.200001  68852600  67.483917   \n",
              "3  1/7/14  57.700001  58.549999  57.220001  57.919998  77207400  70.672584   \n",
              "4  1/8/14  57.599998  58.410000  57.230000  58.230000  56682400  72.049420   \n",
              "\n",
              "      rsi_14       cci_7      cci_14   sma_50     ema_50  sma_100    ema_100  \\\n",
              "0  58.077822  -64.312117  -13.517101  50.2818  50.740946  47.6654  46.914555   \n",
              "1  57.387622  -40.054734  -17.361247  50.3194  50.890719  47.8288  47.066897   \n",
              "2  65.221525   43.907749   42.364730  50.4254  51.138151  48.0306  47.268784   \n",
              "3  67.003189  150.620136  117.886980  50.5348  51.404115  48.2433  47.480966   \n",
              "4  67.768804  107.795942  101.415192  50.6604  51.671806  48.4600  47.695073   \n",
              "\n",
              "       macd  bollinger  TrueRange     atr_7    atr_14  \n",
              "0  1.828901    53.2450   1.030002  1.652052  1.710739  \n",
              "1  1.687987    53.5420   1.120003  1.576045  1.668543  \n",
              "2  1.768947    53.9850   3.209999  1.809467  1.778647  \n",
              "3  1.869653    54.4840   1.349998  1.743829  1.748030  \n",
              "4  1.951977    54.9535   1.180000  1.663282  1.707456  "
            ]
          },
          "execution_count": 5,
          "metadata": {},
          "output_type": "execute_result"
        }
      ],
      "source": [
        "meta.head()"
      ]
    },
    {
      "cell_type": "markdown",
      "id": "JzeMAkz-zlMu",
      "metadata": {
        "id": "JzeMAkz-zlMu"
      },
      "source": [
        "#### Drop the date column because that data won't help our model."
      ]
    },
    {
      "cell_type": "code",
      "execution_count": null,
      "id": "8916f404",
      "metadata": {
        "id": "8916f404"
      },
      "outputs": [],
      "source": [
        "meta = meta.drop(columns=['date'])"
      ]
    },
    {
      "cell_type": "markdown",
      "id": "W_jmlZfGztv4",
      "metadata": {
        "id": "W_jmlZfGztv4"
      },
      "source": [
        "#### We want to decide which days to buy stock. We want to buy stock only if the next day's close will be higher than the current day's close. Let's create a 'tomorrow' column representing the next day's close and our 'target' column will be whether the next day's close beats today's close."
      ]
    },
    {
      "cell_type": "code",
      "execution_count": null,
      "id": "62faf88f",
      "metadata": {
        "id": "62faf88f"
      },
      "outputs": [],
      "source": [
        "meta[\"tomorrow\"] = meta[\"close\"].shift(-1)"
      ]
    },
    {
      "cell_type": "code",
      "execution_count": null,
      "id": "3df52381",
      "metadata": {
        "colab": {
          "base_uri": "https://localhost:8080/",
          "height": 444
        },
        "id": "3df52381",
        "outputId": "2cf83cfb-a8e7-4a14-d1fe-4e418a00e1c4"
      },
      "outputs": [
        {
          "data": {
            "application/vnd.google.colaboratory.intrinsic+json": {
              "summary": "{\n  \"name\": \"meta\",\n  \"rows\": 2516,\n  \"fields\": [\n    {\n      \"column\": \"open\",\n      \"properties\": {\n        \"dtype\": \"number\",\n        \"std\": 81.12372041543935,\n        \"min\": 54.02,\n        \"max\": 381.679993,\n        \"num_unique_values\": 2349,\n        \"samples\": [\n          198.839996,\n          131.410004,\n          161.729996\n        ],\n        \"semantic_type\": \"\",\n        \"description\": \"\"\n      }\n    },\n    {\n      \"column\": \"high\",\n      \"properties\": {\n        \"dtype\": \"number\",\n        \"std\": 82.20095187883302,\n        \"min\": 54.939999,\n        \"max\": 384.329987,\n        \"num_unique_values\": 2360,\n        \"samples\": [\n          126.730003,\n          108.910004,\n          249.589996\n        ],\n        \"semantic_type\": \"\",\n        \"description\": \"\"\n      }\n    },\n    {\n      \"column\": \"low\",\n      \"properties\": {\n        \"dtype\": \"number\",\n        \"std\": 80.11821577248341,\n        \"min\": 51.849998,\n        \"max\": 378.809998,\n        \"num_unique_values\": 2367,\n        \"samples\": [\n          208.440002,\n          268.119995,\n          117.949997\n        ],\n        \"semantic_type\": \"\",\n        \"description\": \"\"\n      }\n    },\n    {\n      \"column\": \"close\",\n      \"properties\": {\n        \"dtype\": \"number\",\n        \"std\": 81.16665254020465,\n        \"min\": 53.529999,\n        \"max\": 382.179993,\n        \"num_unique_values\": 2387,\n        \"samples\": [\n          169.490005,\n          176.029999,\n          162.929993\n        ],\n        \"semantic_type\": \"\",\n        \"description\": \"\"\n      }\n    },\n    {\n      \"column\": \"volume\",\n      \"properties\": {\n        \"dtype\": \"number\",\n        \"std\": 17824602,\n        \"min\": 5467500,\n        \"max\": 232316600,\n        \"num_unique_values\": 2509,\n        \"samples\": [\n          21806300,\n          25254400,\n          25414300\n        ],\n        \"semantic_type\": \"\",\n        \"description\": \"\"\n      }\n    },\n    {\n      \"column\": \"rsi_7\",\n      \"properties\": {\n        \"dtype\": \"number\",\n        \"std\": 15.808831471369379,\n        \"min\": 14.083263477727456,\n        \"max\": 93.57956171000552,\n        \"num_unique_values\": 2511,\n        \"samples\": [\n          52.68815404308389,\n          24.42768973674957,\n          64.26953243134075\n        ],\n        \"semantic_type\": \"\",\n        \"description\": \"\"\n      }\n    },\n    {\n      \"column\": \"rsi_14\",\n      \"properties\": {\n        \"dtype\": \"number\",\n        \"std\": 11.486579848373717,\n        \"min\": 21.93420227494396,\n        \"max\": 86.06537118437959,\n        \"num_unique_values\": 2509,\n        \"samples\": [\n          40.381707094347256,\n          64.36812573802769,\n          59.20001264152175\n        ],\n        \"semantic_type\": \"\",\n        \"description\": \"\"\n      }\n    },\n    {\n      \"column\": \"cci_7\",\n      \"properties\": {\n        \"dtype\": \"number\",\n        \"std\": 99.50660710446955,\n        \"min\": -233.3333333,\n        \"max\": 233.33333333333707,\n        \"num_unique_values\": 2512,\n        \"samples\": [\n          -102.2538612,\n          -30.58850851,\n          -53.71684823\n        ],\n        \"semantic_type\": \"\",\n        \"description\": \"\"\n      }\n    },\n    {\n      \"column\": \"cci_14\",\n      \"properties\": {\n        \"dtype\": \"number\",\n        \"std\": 107.43127036608517,\n        \"min\": -422.4797826,\n        \"max\": 418.4998301,\n        \"num_unique_values\": 2516,\n        \"samples\": [\n          -135.2091215,\n          118.27059578653738,\n          -51.76196801\n        ],\n        \"semantic_type\": \"\",\n        \"description\": \"\"\n      }\n    },\n    {\n      \"column\": \"sma_50\",\n      \"properties\": {\n        \"dtype\": \"number\",\n        \"std\": 79.62148449017909,\n        \"min\": 50.28180016,\n        \"max\": 363.7544012,\n        \"num_unique_values\": 2516,\n        \"samples\": [\n          115.74679928000002,\n          164.8925998,\n          169.3923999\n        ],\n        \"semantic_type\": \"\",\n        \"description\": \"\"\n      }\n    },\n    {\n      \"column\": \"ema_50\",\n      \"properties\": {\n        \"dtype\": \"number\",\n        \"std\": 79.101923415379,\n        \"min\": 50.74094592520254,\n        \"max\": 362.9570614817479,\n        \"num_unique_values\": 2516,\n        \"samples\": [\n          115.68843116514206,\n          165.21083651522676,\n          167.29471125099136\n        ],\n        \"semantic_type\": \"\",\n        \"description\": \"\"\n      }\n    },\n    {\n      \"column\": \"sma_100\",\n      \"properties\": {\n        \"dtype\": \"number\",\n        \"std\": 78.2466308286854,\n        \"min\": 47.66540003,\n        \"max\": 351.0299012,\n        \"num_unique_values\": 2516,\n        \"samples\": [\n          111.9387996,\n          157.4745004,\n          160.8399001\n        ],\n        \"semantic_type\": \"\",\n        \"description\": \"\"\n      }\n    },\n    {\n      \"column\": \"ema_100\",\n      \"properties\": {\n        \"dtype\": \"number\",\n        \"std\": 77.12006980481013,\n        \"min\": 46.91455502781094,\n        \"max\": 347.2137365,\n        \"num_unique_values\": 2516,\n        \"samples\": [\n          112.33948665246402,\n          158.2760123854681,\n          161.31793492420704\n        ],\n        \"semantic_type\": \"\",\n        \"description\": \"\"\n      }\n    },\n    {\n      \"column\": \"macd\",\n      \"properties\": {\n        \"dtype\": \"number\",\n        \"std\": 4.8692744205461596,\n        \"min\": -29.04631132,\n        \"max\": 15.623523635920122,\n        \"num_unique_values\": 2516,\n        \"samples\": [\n          -0.251740977,\n          1.697831138658671,\n          -0.374267805\n        ],\n        \"semantic_type\": \"\",\n        \"description\": \"\"\n      }\n    },\n    {\n      \"column\": \"bollinger\",\n      \"properties\": {\n        \"dtype\": \"number\",\n        \"std\": 80.479296962335,\n        \"min\": 53.24499995,\n        \"max\": 373.4220033,\n        \"num_unique_values\": 2512,\n        \"samples\": [\n          220.786502,\n          90.69000085,\n          275.2534974\n        ],\n        \"semantic_type\": \"\",\n        \"description\": \"\"\n      }\n    },\n    {\n      \"column\": \"TrueRange\",\n      \"properties\": {\n        \"dtype\": \"number\",\n        \"std\": 4.338035102938402,\n        \"min\": 0.5299990000000037,\n        \"max\": 87.25,\n        \"num_unique_values\": 1942,\n        \"samples\": [\n          9.280013999999994,\n          3.019988999999981,\n          2.670002000000004\n        ],\n        \"semantic_type\": \"\",\n        \"description\": \"\"\n      }\n    },\n    {\n      \"column\": \"atr_7\",\n      \"properties\": {\n        \"dtype\": \"number\",\n        \"std\": 3.0450836668289396,\n        \"min\": 1.0959186351111776,\n        \"max\": 22.274681655651797,\n        \"num_unique_values\": 2516,\n        \"samples\": [\n          1.6609525234465723,\n          2.5432850095496016,\n          3.170156038965967\n        ],\n        \"semantic_type\": \"\",\n        \"description\": \"\"\n      }\n    },\n    {\n      \"column\": \"atr_14\",\n      \"properties\": {\n        \"dtype\": \"number\",\n        \"std\": 2.9124254409859653,\n        \"min\": 1.276304250588509,\n        \"max\": 16.66516739474988,\n        \"num_unique_values\": 2516,\n        \"samples\": [\n          1.7535217796587017,\n          2.5540179808014942,\n          2.912744916593695\n        ],\n        \"semantic_type\": \"\",\n        \"description\": \"\"\n      }\n    },\n    {\n      \"column\": \"tomorrow\",\n      \"properties\": {\n        \"dtype\": \"number\",\n        \"std\": 81.14545353256196,\n        \"min\": 53.529999,\n        \"max\": 382.179993,\n        \"num_unique_values\": 2386,\n        \"samples\": [\n          283.290009,\n          174.559998,\n          165.410004\n        ],\n        \"semantic_type\": \"\",\n        \"description\": \"\"\n      }\n    }\n  ]\n}",
              "type": "dataframe",
              "variable_name": "meta"
            },
            "text/html": [
              "\n",
              "  <div id=\"df-9a903b91-3fdb-4b52-ba8b-e62dd8e608af\" class=\"colab-df-container\">\n",
              "    <div>\n",
              "<style scoped>\n",
              "    .dataframe tbody tr th:only-of-type {\n",
              "        vertical-align: middle;\n",
              "    }\n",
              "\n",
              "    .dataframe tbody tr th {\n",
              "        vertical-align: top;\n",
              "    }\n",
              "\n",
              "    .dataframe thead th {\n",
              "        text-align: right;\n",
              "    }\n",
              "</style>\n",
              "<table border=\"1\" class=\"dataframe\">\n",
              "  <thead>\n",
              "    <tr style=\"text-align: right;\">\n",
              "      <th></th>\n",
              "      <th>open</th>\n",
              "      <th>high</th>\n",
              "      <th>low</th>\n",
              "      <th>close</th>\n",
              "      <th>volume</th>\n",
              "      <th>rsi_7</th>\n",
              "      <th>rsi_14</th>\n",
              "      <th>cci_7</th>\n",
              "      <th>cci_14</th>\n",
              "      <th>sma_50</th>\n",
              "      <th>ema_50</th>\n",
              "      <th>sma_100</th>\n",
              "      <th>ema_100</th>\n",
              "      <th>macd</th>\n",
              "      <th>bollinger</th>\n",
              "      <th>TrueRange</th>\n",
              "      <th>atr_7</th>\n",
              "      <th>atr_14</th>\n",
              "      <th>tomorrow</th>\n",
              "    </tr>\n",
              "  </thead>\n",
              "  <tbody>\n",
              "    <tr>\n",
              "      <th>0</th>\n",
              "      <td>54.830002</td>\n",
              "      <td>55.220001</td>\n",
              "      <td>54.189999</td>\n",
              "      <td>54.709999</td>\n",
              "      <td>43195500</td>\n",
              "      <td>51.917475</td>\n",
              "      <td>58.077822</td>\n",
              "      <td>-64.312117</td>\n",
              "      <td>-13.517101</td>\n",
              "      <td>50.2818</td>\n",
              "      <td>50.740946</td>\n",
              "      <td>47.6654</td>\n",
              "      <td>46.914555</td>\n",
              "      <td>1.828901</td>\n",
              "      <td>53.245000</td>\n",
              "      <td>1.030002</td>\n",
              "      <td>1.652052</td>\n",
              "      <td>1.710739</td>\n",
              "      <td>54.560001</td>\n",
              "    </tr>\n",
              "    <tr>\n",
              "      <th>1</th>\n",
              "      <td>55.020000</td>\n",
              "      <td>55.650002</td>\n",
              "      <td>54.529999</td>\n",
              "      <td>54.560001</td>\n",
              "      <td>38246200</td>\n",
              "      <td>50.604988</td>\n",
              "      <td>57.387622</td>\n",
              "      <td>-40.054734</td>\n",
              "      <td>-17.361247</td>\n",
              "      <td>50.3194</td>\n",
              "      <td>50.890719</td>\n",
              "      <td>47.8288</td>\n",
              "      <td>47.066897</td>\n",
              "      <td>1.687987</td>\n",
              "      <td>53.542000</td>\n",
              "      <td>1.120003</td>\n",
              "      <td>1.576045</td>\n",
              "      <td>1.668543</td>\n",
              "      <td>57.200001</td>\n",
              "    </tr>\n",
              "    <tr>\n",
              "      <th>2</th>\n",
              "      <td>54.419998</td>\n",
              "      <td>57.259998</td>\n",
              "      <td>54.049999</td>\n",
              "      <td>57.200001</td>\n",
              "      <td>68852600</td>\n",
              "      <td>67.483917</td>\n",
              "      <td>65.221525</td>\n",
              "      <td>43.907749</td>\n",
              "      <td>42.364730</td>\n",
              "      <td>50.4254</td>\n",
              "      <td>51.138151</td>\n",
              "      <td>48.0306</td>\n",
              "      <td>47.268784</td>\n",
              "      <td>1.768947</td>\n",
              "      <td>53.985000</td>\n",
              "      <td>3.209999</td>\n",
              "      <td>1.809467</td>\n",
              "      <td>1.778647</td>\n",
              "      <td>57.919998</td>\n",
              "    </tr>\n",
              "    <tr>\n",
              "      <th>3</th>\n",
              "      <td>57.700001</td>\n",
              "      <td>58.549999</td>\n",
              "      <td>57.220001</td>\n",
              "      <td>57.919998</td>\n",
              "      <td>77207400</td>\n",
              "      <td>70.672584</td>\n",
              "      <td>67.003189</td>\n",
              "      <td>150.620136</td>\n",
              "      <td>117.886980</td>\n",
              "      <td>50.5348</td>\n",
              "      <td>51.404115</td>\n",
              "      <td>48.2433</td>\n",
              "      <td>47.480966</td>\n",
              "      <td>1.869653</td>\n",
              "      <td>54.484000</td>\n",
              "      <td>1.349998</td>\n",
              "      <td>1.743829</td>\n",
              "      <td>1.748030</td>\n",
              "      <td>58.230000</td>\n",
              "    </tr>\n",
              "    <tr>\n",
              "      <th>4</th>\n",
              "      <td>57.599998</td>\n",
              "      <td>58.410000</td>\n",
              "      <td>57.230000</td>\n",
              "      <td>58.230000</td>\n",
              "      <td>56682400</td>\n",
              "      <td>72.049420</td>\n",
              "      <td>67.768804</td>\n",
              "      <td>107.795942</td>\n",
              "      <td>101.415192</td>\n",
              "      <td>50.6604</td>\n",
              "      <td>51.671806</td>\n",
              "      <td>48.4600</td>\n",
              "      <td>47.695073</td>\n",
              "      <td>1.951977</td>\n",
              "      <td>54.953500</td>\n",
              "      <td>1.180000</td>\n",
              "      <td>1.663282</td>\n",
              "      <td>1.707456</td>\n",
              "      <td>57.220001</td>\n",
              "    </tr>\n",
              "    <tr>\n",
              "      <th>...</th>\n",
              "      <td>...</td>\n",
              "      <td>...</td>\n",
              "      <td>...</td>\n",
              "      <td>...</td>\n",
              "      <td>...</td>\n",
              "      <td>...</td>\n",
              "      <td>...</td>\n",
              "      <td>...</td>\n",
              "      <td>...</td>\n",
              "      <td>...</td>\n",
              "      <td>...</td>\n",
              "      <td>...</td>\n",
              "      <td>...</td>\n",
              "      <td>...</td>\n",
              "      <td>...</td>\n",
              "      <td>...</td>\n",
              "      <td>...</td>\n",
              "      <td>...</td>\n",
              "      <td>...</td>\n",
              "    </tr>\n",
              "    <tr>\n",
              "      <th>2511</th>\n",
              "      <td>355.579987</td>\n",
              "      <td>357.200012</td>\n",
              "      <td>351.220001</td>\n",
              "      <td>353.390015</td>\n",
              "      <td>11764200</td>\n",
              "      <td>75.599633</td>\n",
              "      <td>67.333880</td>\n",
              "      <td>76.743391</td>\n",
              "      <td>118.091091</td>\n",
              "      <td>325.3110</td>\n",
              "      <td>327.435849</td>\n",
              "      <td>313.7337</td>\n",
              "      <td>312.872285</td>\n",
              "      <td>6.988186</td>\n",
              "      <td>334.351501</td>\n",
              "      <td>5.980011</td>\n",
              "      <td>8.002103</td>\n",
              "      <td>8.111983</td>\n",
              "      <td>354.829987</td>\n",
              "    </tr>\n",
              "    <tr>\n",
              "      <th>2512</th>\n",
              "      <td>354.989990</td>\n",
              "      <td>356.980011</td>\n",
              "      <td>353.450012</td>\n",
              "      <td>354.829987</td>\n",
              "      <td>9898600</td>\n",
              "      <td>77.018164</td>\n",
              "      <td>68.186993</td>\n",
              "      <td>77.588047</td>\n",
              "      <td>103.323614</td>\n",
              "      <td>326.1138</td>\n",
              "      <td>328.510129</td>\n",
              "      <td>314.1501</td>\n",
              "      <td>313.703131</td>\n",
              "      <td>7.482646</td>\n",
              "      <td>335.358000</td>\n",
              "      <td>3.589996</td>\n",
              "      <td>7.371802</td>\n",
              "      <td>7.788984</td>\n",
              "      <td>357.829987</td>\n",
              "    </tr>\n",
              "    <tr>\n",
              "      <th>2513</th>\n",
              "      <td>356.070007</td>\n",
              "      <td>359.000000</td>\n",
              "      <td>355.309998</td>\n",
              "      <td>357.829987</td>\n",
              "      <td>13207900</td>\n",
              "      <td>79.863540</td>\n",
              "      <td>69.947896</td>\n",
              "      <td>105.699338</td>\n",
              "      <td>100.793824</td>\n",
              "      <td>326.8474</td>\n",
              "      <td>329.659928</td>\n",
              "      <td>314.6211</td>\n",
              "      <td>314.576930</td>\n",
              "      <td>8.024088</td>\n",
              "      <td>336.300000</td>\n",
              "      <td>4.170013</td>\n",
              "      <td>6.914403</td>\n",
              "      <td>7.530486</td>\n",
              "      <td>358.320007</td>\n",
              "    </tr>\n",
              "    <tr>\n",
              "      <th>2514</th>\n",
              "      <td>359.700012</td>\n",
              "      <td>361.899994</td>\n",
              "      <td>357.809998</td>\n",
              "      <td>358.320007</td>\n",
              "      <td>11798800</td>\n",
              "      <td>80.327681</td>\n",
              "      <td>70.237681</td>\n",
              "      <td>130.191423</td>\n",
              "      <td>99.110535</td>\n",
              "      <td>327.5338</td>\n",
              "      <td>330.783852</td>\n",
              "      <td>315.0387</td>\n",
              "      <td>315.443129</td>\n",
              "      <td>8.395942</td>\n",
              "      <td>337.606000</td>\n",
              "      <td>4.089996</td>\n",
              "      <td>6.510917</td>\n",
              "      <td>7.284737</td>\n",
              "      <td>353.959991</td>\n",
              "    </tr>\n",
              "    <tr>\n",
              "      <th>2515</th>\n",
              "      <td>358.989990</td>\n",
              "      <td>360.000000</td>\n",
              "      <td>351.820007</td>\n",
              "      <td>353.959991</td>\n",
              "      <td>14980500</td>\n",
              "      <td>64.818560</td>\n",
              "      <td>64.296831</td>\n",
              "      <td>8.900457</td>\n",
              "      <td>64.460519</td>\n",
              "      <td>328.2736</td>\n",
              "      <td>331.692720</td>\n",
              "      <td>315.4519</td>\n",
              "      <td>316.205839</td>\n",
              "      <td>8.243792</td>\n",
              "      <td>338.946500</td>\n",
              "      <td>8.179993</td>\n",
              "      <td>6.749356</td>\n",
              "      <td>7.348683</td>\n",
              "      <td>NaN</td>\n",
              "    </tr>\n",
              "  </tbody>\n",
              "</table>\n",
              "<p>2516 rows × 19 columns</p>\n",
              "</div>\n",
              "    <div class=\"colab-df-buttons\">\n",
              "\n",
              "  <div class=\"colab-df-container\">\n",
              "    <button class=\"colab-df-convert\" onclick=\"convertToInteractive('df-9a903b91-3fdb-4b52-ba8b-e62dd8e608af')\"\n",
              "            title=\"Convert this dataframe to an interactive table.\"\n",
              "            style=\"display:none;\">\n",
              "\n",
              "  <svg xmlns=\"http://www.w3.org/2000/svg\" height=\"24px\" viewBox=\"0 -960 960 960\">\n",
              "    <path d=\"M120-120v-720h720v720H120Zm60-500h600v-160H180v160Zm220 220h160v-160H400v160Zm0 220h160v-160H400v160ZM180-400h160v-160H180v160Zm440 0h160v-160H620v160ZM180-180h160v-160H180v160Zm440 0h160v-160H620v160Z\"/>\n",
              "  </svg>\n",
              "    </button>\n",
              "\n",
              "  <style>\n",
              "    .colab-df-container {\n",
              "      display:flex;\n",
              "      gap: 12px;\n",
              "    }\n",
              "\n",
              "    .colab-df-convert {\n",
              "      background-color: #E8F0FE;\n",
              "      border: none;\n",
              "      border-radius: 50%;\n",
              "      cursor: pointer;\n",
              "      display: none;\n",
              "      fill: #1967D2;\n",
              "      height: 32px;\n",
              "      padding: 0 0 0 0;\n",
              "      width: 32px;\n",
              "    }\n",
              "\n",
              "    .colab-df-convert:hover {\n",
              "      background-color: #E2EBFA;\n",
              "      box-shadow: 0px 1px 2px rgba(60, 64, 67, 0.3), 0px 1px 3px 1px rgba(60, 64, 67, 0.15);\n",
              "      fill: #174EA6;\n",
              "    }\n",
              "\n",
              "    .colab-df-buttons div {\n",
              "      margin-bottom: 4px;\n",
              "    }\n",
              "\n",
              "    [theme=dark] .colab-df-convert {\n",
              "      background-color: #3B4455;\n",
              "      fill: #D2E3FC;\n",
              "    }\n",
              "\n",
              "    [theme=dark] .colab-df-convert:hover {\n",
              "      background-color: #434B5C;\n",
              "      box-shadow: 0px 1px 3px 1px rgba(0, 0, 0, 0.15);\n",
              "      filter: drop-shadow(0px 1px 2px rgba(0, 0, 0, 0.3));\n",
              "      fill: #FFFFFF;\n",
              "    }\n",
              "  </style>\n",
              "\n",
              "    <script>\n",
              "      const buttonEl =\n",
              "        document.querySelector('#df-9a903b91-3fdb-4b52-ba8b-e62dd8e608af button.colab-df-convert');\n",
              "      buttonEl.style.display =\n",
              "        google.colab.kernel.accessAllowed ? 'block' : 'none';\n",
              "\n",
              "      async function convertToInteractive(key) {\n",
              "        const element = document.querySelector('#df-9a903b91-3fdb-4b52-ba8b-e62dd8e608af');\n",
              "        const dataTable =\n",
              "          await google.colab.kernel.invokeFunction('convertToInteractive',\n",
              "                                                    [key], {});\n",
              "        if (!dataTable) return;\n",
              "\n",
              "        const docLinkHtml = 'Like what you see? Visit the ' +\n",
              "          '<a target=\"_blank\" href=https://colab.research.google.com/notebooks/data_table.ipynb>data table notebook</a>'\n",
              "          + ' to learn more about interactive tables.';\n",
              "        element.innerHTML = '';\n",
              "        dataTable['output_type'] = 'display_data';\n",
              "        await google.colab.output.renderOutput(dataTable, element);\n",
              "        const docLink = document.createElement('div');\n",
              "        docLink.innerHTML = docLinkHtml;\n",
              "        element.appendChild(docLink);\n",
              "      }\n",
              "    </script>\n",
              "  </div>\n",
              "\n",
              "\n",
              "<div id=\"df-97cbe8c0-e281-4b52-a8c7-629602fffc38\">\n",
              "  <button class=\"colab-df-quickchart\" onclick=\"quickchart('df-97cbe8c0-e281-4b52-a8c7-629602fffc38')\"\n",
              "            title=\"Suggest charts\"\n",
              "            style=\"display:none;\">\n",
              "\n",
              "<svg xmlns=\"http://www.w3.org/2000/svg\" height=\"24px\"viewBox=\"0 0 24 24\"\n",
              "     width=\"24px\">\n",
              "    <g>\n",
              "        <path d=\"M19 3H5c-1.1 0-2 .9-2 2v14c0 1.1.9 2 2 2h14c1.1 0 2-.9 2-2V5c0-1.1-.9-2-2-2zM9 17H7v-7h2v7zm4 0h-2V7h2v10zm4 0h-2v-4h2v4z\"/>\n",
              "    </g>\n",
              "</svg>\n",
              "  </button>\n",
              "\n",
              "<style>\n",
              "  .colab-df-quickchart {\n",
              "      --bg-color: #E8F0FE;\n",
              "      --fill-color: #1967D2;\n",
              "      --hover-bg-color: #E2EBFA;\n",
              "      --hover-fill-color: #174EA6;\n",
              "      --disabled-fill-color: #AAA;\n",
              "      --disabled-bg-color: #DDD;\n",
              "  }\n",
              "\n",
              "  [theme=dark] .colab-df-quickchart {\n",
              "      --bg-color: #3B4455;\n",
              "      --fill-color: #D2E3FC;\n",
              "      --hover-bg-color: #434B5C;\n",
              "      --hover-fill-color: #FFFFFF;\n",
              "      --disabled-bg-color: #3B4455;\n",
              "      --disabled-fill-color: #666;\n",
              "  }\n",
              "\n",
              "  .colab-df-quickchart {\n",
              "    background-color: var(--bg-color);\n",
              "    border: none;\n",
              "    border-radius: 50%;\n",
              "    cursor: pointer;\n",
              "    display: none;\n",
              "    fill: var(--fill-color);\n",
              "    height: 32px;\n",
              "    padding: 0;\n",
              "    width: 32px;\n",
              "  }\n",
              "\n",
              "  .colab-df-quickchart:hover {\n",
              "    background-color: var(--hover-bg-color);\n",
              "    box-shadow: 0 1px 2px rgba(60, 64, 67, 0.3), 0 1px 3px 1px rgba(60, 64, 67, 0.15);\n",
              "    fill: var(--button-hover-fill-color);\n",
              "  }\n",
              "\n",
              "  .colab-df-quickchart-complete:disabled,\n",
              "  .colab-df-quickchart-complete:disabled:hover {\n",
              "    background-color: var(--disabled-bg-color);\n",
              "    fill: var(--disabled-fill-color);\n",
              "    box-shadow: none;\n",
              "  }\n",
              "\n",
              "  .colab-df-spinner {\n",
              "    border: 2px solid var(--fill-color);\n",
              "    border-color: transparent;\n",
              "    border-bottom-color: var(--fill-color);\n",
              "    animation:\n",
              "      spin 1s steps(1) infinite;\n",
              "  }\n",
              "\n",
              "  @keyframes spin {\n",
              "    0% {\n",
              "      border-color: transparent;\n",
              "      border-bottom-color: var(--fill-color);\n",
              "      border-left-color: var(--fill-color);\n",
              "    }\n",
              "    20% {\n",
              "      border-color: transparent;\n",
              "      border-left-color: var(--fill-color);\n",
              "      border-top-color: var(--fill-color);\n",
              "    }\n",
              "    30% {\n",
              "      border-color: transparent;\n",
              "      border-left-color: var(--fill-color);\n",
              "      border-top-color: var(--fill-color);\n",
              "      border-right-color: var(--fill-color);\n",
              "    }\n",
              "    40% {\n",
              "      border-color: transparent;\n",
              "      border-right-color: var(--fill-color);\n",
              "      border-top-color: var(--fill-color);\n",
              "    }\n",
              "    60% {\n",
              "      border-color: transparent;\n",
              "      border-right-color: var(--fill-color);\n",
              "    }\n",
              "    80% {\n",
              "      border-color: transparent;\n",
              "      border-right-color: var(--fill-color);\n",
              "      border-bottom-color: var(--fill-color);\n",
              "    }\n",
              "    90% {\n",
              "      border-color: transparent;\n",
              "      border-bottom-color: var(--fill-color);\n",
              "    }\n",
              "  }\n",
              "</style>\n",
              "\n",
              "  <script>\n",
              "    async function quickchart(key) {\n",
              "      const quickchartButtonEl =\n",
              "        document.querySelector('#' + key + ' button');\n",
              "      quickchartButtonEl.disabled = true;  // To prevent multiple clicks.\n",
              "      quickchartButtonEl.classList.add('colab-df-spinner');\n",
              "      try {\n",
              "        const charts = await google.colab.kernel.invokeFunction(\n",
              "            'suggestCharts', [key], {});\n",
              "      } catch (error) {\n",
              "        console.error('Error during call to suggestCharts:', error);\n",
              "      }\n",
              "      quickchartButtonEl.classList.remove('colab-df-spinner');\n",
              "      quickchartButtonEl.classList.add('colab-df-quickchart-complete');\n",
              "    }\n",
              "    (() => {\n",
              "      let quickchartButtonEl =\n",
              "        document.querySelector('#df-97cbe8c0-e281-4b52-a8c7-629602fffc38 button');\n",
              "      quickchartButtonEl.style.display =\n",
              "        google.colab.kernel.accessAllowed ? 'block' : 'none';\n",
              "    })();\n",
              "  </script>\n",
              "</div>\n",
              "    </div>\n",
              "  </div>\n"
            ],
            "text/plain": [
              "            open        high         low       close    volume      rsi_7  \\\n",
              "0      54.830002   55.220001   54.189999   54.709999  43195500  51.917475   \n",
              "1      55.020000   55.650002   54.529999   54.560001  38246200  50.604988   \n",
              "2      54.419998   57.259998   54.049999   57.200001  68852600  67.483917   \n",
              "3      57.700001   58.549999   57.220001   57.919998  77207400  70.672584   \n",
              "4      57.599998   58.410000   57.230000   58.230000  56682400  72.049420   \n",
              "...          ...         ...         ...         ...       ...        ...   \n",
              "2511  355.579987  357.200012  351.220001  353.390015  11764200  75.599633   \n",
              "2512  354.989990  356.980011  353.450012  354.829987   9898600  77.018164   \n",
              "2513  356.070007  359.000000  355.309998  357.829987  13207900  79.863540   \n",
              "2514  359.700012  361.899994  357.809998  358.320007  11798800  80.327681   \n",
              "2515  358.989990  360.000000  351.820007  353.959991  14980500  64.818560   \n",
              "\n",
              "         rsi_14       cci_7      cci_14    sma_50      ema_50   sma_100  \\\n",
              "0     58.077822  -64.312117  -13.517101   50.2818   50.740946   47.6654   \n",
              "1     57.387622  -40.054734  -17.361247   50.3194   50.890719   47.8288   \n",
              "2     65.221525   43.907749   42.364730   50.4254   51.138151   48.0306   \n",
              "3     67.003189  150.620136  117.886980   50.5348   51.404115   48.2433   \n",
              "4     67.768804  107.795942  101.415192   50.6604   51.671806   48.4600   \n",
              "...         ...         ...         ...       ...         ...       ...   \n",
              "2511  67.333880   76.743391  118.091091  325.3110  327.435849  313.7337   \n",
              "2512  68.186993   77.588047  103.323614  326.1138  328.510129  314.1501   \n",
              "2513  69.947896  105.699338  100.793824  326.8474  329.659928  314.6211   \n",
              "2514  70.237681  130.191423   99.110535  327.5338  330.783852  315.0387   \n",
              "2515  64.296831    8.900457   64.460519  328.2736  331.692720  315.4519   \n",
              "\n",
              "         ema_100      macd   bollinger  TrueRange     atr_7    atr_14  \\\n",
              "0      46.914555  1.828901   53.245000   1.030002  1.652052  1.710739   \n",
              "1      47.066897  1.687987   53.542000   1.120003  1.576045  1.668543   \n",
              "2      47.268784  1.768947   53.985000   3.209999  1.809467  1.778647   \n",
              "3      47.480966  1.869653   54.484000   1.349998  1.743829  1.748030   \n",
              "4      47.695073  1.951977   54.953500   1.180000  1.663282  1.707456   \n",
              "...          ...       ...         ...        ...       ...       ...   \n",
              "2511  312.872285  6.988186  334.351501   5.980011  8.002103  8.111983   \n",
              "2512  313.703131  7.482646  335.358000   3.589996  7.371802  7.788984   \n",
              "2513  314.576930  8.024088  336.300000   4.170013  6.914403  7.530486   \n",
              "2514  315.443129  8.395942  337.606000   4.089996  6.510917  7.284737   \n",
              "2515  316.205839  8.243792  338.946500   8.179993  6.749356  7.348683   \n",
              "\n",
              "        tomorrow  \n",
              "0      54.560001  \n",
              "1      57.200001  \n",
              "2      57.919998  \n",
              "3      58.230000  \n",
              "4      57.220001  \n",
              "...          ...  \n",
              "2511  354.829987  \n",
              "2512  357.829987  \n",
              "2513  358.320007  \n",
              "2514  353.959991  \n",
              "2515         NaN  \n",
              "\n",
              "[2516 rows x 19 columns]"
            ]
          },
          "execution_count": 8,
          "metadata": {},
          "output_type": "execute_result"
        }
      ],
      "source": [
        "meta"
      ]
    },
    {
      "cell_type": "code",
      "execution_count": null,
      "id": "fd1aedb4",
      "metadata": {
        "id": "fd1aedb4"
      },
      "outputs": [],
      "source": [
        "meta[\"target\"] = (meta[\"tomorrow\"] > meta[\"close\"]).astype(int)"
      ]
    },
    {
      "cell_type": "code",
      "execution_count": null,
      "id": "92cb896c",
      "metadata": {
        "colab": {
          "base_uri": "https://localhost:8080/",
          "height": 444
        },
        "id": "92cb896c",
        "outputId": "290c12b2-34d7-489b-b0a3-c89e9fceb199"
      },
      "outputs": [
        {
          "data": {
            "application/vnd.google.colaboratory.intrinsic+json": {
              "summary": "{\n  \"name\": \"meta\",\n  \"rows\": 2516,\n  \"fields\": [\n    {\n      \"column\": \"open\",\n      \"properties\": {\n        \"dtype\": \"number\",\n        \"std\": 81.12372041543935,\n        \"min\": 54.02,\n        \"max\": 381.679993,\n        \"num_unique_values\": 2349,\n        \"samples\": [\n          198.839996,\n          131.410004,\n          161.729996\n        ],\n        \"semantic_type\": \"\",\n        \"description\": \"\"\n      }\n    },\n    {\n      \"column\": \"high\",\n      \"properties\": {\n        \"dtype\": \"number\",\n        \"std\": 82.20095187883302,\n        \"min\": 54.939999,\n        \"max\": 384.329987,\n        \"num_unique_values\": 2360,\n        \"samples\": [\n          126.730003,\n          108.910004,\n          249.589996\n        ],\n        \"semantic_type\": \"\",\n        \"description\": \"\"\n      }\n    },\n    {\n      \"column\": \"low\",\n      \"properties\": {\n        \"dtype\": \"number\",\n        \"std\": 80.11821577248341,\n        \"min\": 51.849998,\n        \"max\": 378.809998,\n        \"num_unique_values\": 2367,\n        \"samples\": [\n          208.440002,\n          268.119995,\n          117.949997\n        ],\n        \"semantic_type\": \"\",\n        \"description\": \"\"\n      }\n    },\n    {\n      \"column\": \"close\",\n      \"properties\": {\n        \"dtype\": \"number\",\n        \"std\": 81.16665254020465,\n        \"min\": 53.529999,\n        \"max\": 382.179993,\n        \"num_unique_values\": 2387,\n        \"samples\": [\n          169.490005,\n          176.029999,\n          162.929993\n        ],\n        \"semantic_type\": \"\",\n        \"description\": \"\"\n      }\n    },\n    {\n      \"column\": \"volume\",\n      \"properties\": {\n        \"dtype\": \"number\",\n        \"std\": 17824602,\n        \"min\": 5467500,\n        \"max\": 232316600,\n        \"num_unique_values\": 2509,\n        \"samples\": [\n          21806300,\n          25254400,\n          25414300\n        ],\n        \"semantic_type\": \"\",\n        \"description\": \"\"\n      }\n    },\n    {\n      \"column\": \"rsi_7\",\n      \"properties\": {\n        \"dtype\": \"number\",\n        \"std\": 15.808831471369379,\n        \"min\": 14.083263477727456,\n        \"max\": 93.57956171000552,\n        \"num_unique_values\": 2511,\n        \"samples\": [\n          52.68815404308389,\n          24.42768973674957,\n          64.26953243134075\n        ],\n        \"semantic_type\": \"\",\n        \"description\": \"\"\n      }\n    },\n    {\n      \"column\": \"rsi_14\",\n      \"properties\": {\n        \"dtype\": \"number\",\n        \"std\": 11.486579848373717,\n        \"min\": 21.93420227494396,\n        \"max\": 86.06537118437959,\n        \"num_unique_values\": 2509,\n        \"samples\": [\n          40.381707094347256,\n          64.36812573802769,\n          59.20001264152175\n        ],\n        \"semantic_type\": \"\",\n        \"description\": \"\"\n      }\n    },\n    {\n      \"column\": \"cci_7\",\n      \"properties\": {\n        \"dtype\": \"number\",\n        \"std\": 99.50660710446955,\n        \"min\": -233.3333333,\n        \"max\": 233.33333333333707,\n        \"num_unique_values\": 2512,\n        \"samples\": [\n          -102.2538612,\n          -30.58850851,\n          -53.71684823\n        ],\n        \"semantic_type\": \"\",\n        \"description\": \"\"\n      }\n    },\n    {\n      \"column\": \"cci_14\",\n      \"properties\": {\n        \"dtype\": \"number\",\n        \"std\": 107.43127036608517,\n        \"min\": -422.4797826,\n        \"max\": 418.4998301,\n        \"num_unique_values\": 2516,\n        \"samples\": [\n          -135.2091215,\n          118.27059578653738,\n          -51.76196801\n        ],\n        \"semantic_type\": \"\",\n        \"description\": \"\"\n      }\n    },\n    {\n      \"column\": \"sma_50\",\n      \"properties\": {\n        \"dtype\": \"number\",\n        \"std\": 79.62148449017909,\n        \"min\": 50.28180016,\n        \"max\": 363.7544012,\n        \"num_unique_values\": 2516,\n        \"samples\": [\n          115.74679928000002,\n          164.8925998,\n          169.3923999\n        ],\n        \"semantic_type\": \"\",\n        \"description\": \"\"\n      }\n    },\n    {\n      \"column\": \"ema_50\",\n      \"properties\": {\n        \"dtype\": \"number\",\n        \"std\": 79.101923415379,\n        \"min\": 50.74094592520254,\n        \"max\": 362.9570614817479,\n        \"num_unique_values\": 2516,\n        \"samples\": [\n          115.68843116514206,\n          165.21083651522676,\n          167.29471125099136\n        ],\n        \"semantic_type\": \"\",\n        \"description\": \"\"\n      }\n    },\n    {\n      \"column\": \"sma_100\",\n      \"properties\": {\n        \"dtype\": \"number\",\n        \"std\": 78.2466308286854,\n        \"min\": 47.66540003,\n        \"max\": 351.0299012,\n        \"num_unique_values\": 2516,\n        \"samples\": [\n          111.9387996,\n          157.4745004,\n          160.8399001\n        ],\n        \"semantic_type\": \"\",\n        \"description\": \"\"\n      }\n    },\n    {\n      \"column\": \"ema_100\",\n      \"properties\": {\n        \"dtype\": \"number\",\n        \"std\": 77.12006980481013,\n        \"min\": 46.91455502781094,\n        \"max\": 347.2137365,\n        \"num_unique_values\": 2516,\n        \"samples\": [\n          112.33948665246402,\n          158.2760123854681,\n          161.31793492420704\n        ],\n        \"semantic_type\": \"\",\n        \"description\": \"\"\n      }\n    },\n    {\n      \"column\": \"macd\",\n      \"properties\": {\n        \"dtype\": \"number\",\n        \"std\": 4.8692744205461596,\n        \"min\": -29.04631132,\n        \"max\": 15.623523635920122,\n        \"num_unique_values\": 2516,\n        \"samples\": [\n          -0.251740977,\n          1.697831138658671,\n          -0.374267805\n        ],\n        \"semantic_type\": \"\",\n        \"description\": \"\"\n      }\n    },\n    {\n      \"column\": \"bollinger\",\n      \"properties\": {\n        \"dtype\": \"number\",\n        \"std\": 80.479296962335,\n        \"min\": 53.24499995,\n        \"max\": 373.4220033,\n        \"num_unique_values\": 2512,\n        \"samples\": [\n          220.786502,\n          90.69000085,\n          275.2534974\n        ],\n        \"semantic_type\": \"\",\n        \"description\": \"\"\n      }\n    },\n    {\n      \"column\": \"TrueRange\",\n      \"properties\": {\n        \"dtype\": \"number\",\n        \"std\": 4.338035102938402,\n        \"min\": 0.5299990000000037,\n        \"max\": 87.25,\n        \"num_unique_values\": 1942,\n        \"samples\": [\n          9.280013999999994,\n          3.019988999999981,\n          2.670002000000004\n        ],\n        \"semantic_type\": \"\",\n        \"description\": \"\"\n      }\n    },\n    {\n      \"column\": \"atr_7\",\n      \"properties\": {\n        \"dtype\": \"number\",\n        \"std\": 3.0450836668289396,\n        \"min\": 1.0959186351111776,\n        \"max\": 22.274681655651797,\n        \"num_unique_values\": 2516,\n        \"samples\": [\n          1.6609525234465723,\n          2.5432850095496016,\n          3.170156038965967\n        ],\n        \"semantic_type\": \"\",\n        \"description\": \"\"\n      }\n    },\n    {\n      \"column\": \"atr_14\",\n      \"properties\": {\n        \"dtype\": \"number\",\n        \"std\": 2.9124254409859653,\n        \"min\": 1.276304250588509,\n        \"max\": 16.66516739474988,\n        \"num_unique_values\": 2516,\n        \"samples\": [\n          1.7535217796587017,\n          2.5540179808014942,\n          2.912744916593695\n        ],\n        \"semantic_type\": \"\",\n        \"description\": \"\"\n      }\n    },\n    {\n      \"column\": \"tomorrow\",\n      \"properties\": {\n        \"dtype\": \"number\",\n        \"std\": 81.14545353256196,\n        \"min\": 53.529999,\n        \"max\": 382.179993,\n        \"num_unique_values\": 2386,\n        \"samples\": [\n          283.290009,\n          174.559998,\n          165.410004\n        ],\n        \"semantic_type\": \"\",\n        \"description\": \"\"\n      }\n    },\n    {\n      \"column\": \"target\",\n      \"properties\": {\n        \"dtype\": \"number\",\n        \"std\": 0,\n        \"min\": 0,\n        \"max\": 1,\n        \"num_unique_values\": 2,\n        \"samples\": [\n          1,\n          0\n        ],\n        \"semantic_type\": \"\",\n        \"description\": \"\"\n      }\n    }\n  ]\n}",
              "type": "dataframe",
              "variable_name": "meta"
            },
            "text/html": [
              "\n",
              "  <div id=\"df-4ade78aa-b3fe-4a78-b6fe-41268c78f045\" class=\"colab-df-container\">\n",
              "    <div>\n",
              "<style scoped>\n",
              "    .dataframe tbody tr th:only-of-type {\n",
              "        vertical-align: middle;\n",
              "    }\n",
              "\n",
              "    .dataframe tbody tr th {\n",
              "        vertical-align: top;\n",
              "    }\n",
              "\n",
              "    .dataframe thead th {\n",
              "        text-align: right;\n",
              "    }\n",
              "</style>\n",
              "<table border=\"1\" class=\"dataframe\">\n",
              "  <thead>\n",
              "    <tr style=\"text-align: right;\">\n",
              "      <th></th>\n",
              "      <th>open</th>\n",
              "      <th>high</th>\n",
              "      <th>low</th>\n",
              "      <th>close</th>\n",
              "      <th>volume</th>\n",
              "      <th>rsi_7</th>\n",
              "      <th>rsi_14</th>\n",
              "      <th>cci_7</th>\n",
              "      <th>cci_14</th>\n",
              "      <th>sma_50</th>\n",
              "      <th>ema_50</th>\n",
              "      <th>sma_100</th>\n",
              "      <th>ema_100</th>\n",
              "      <th>macd</th>\n",
              "      <th>bollinger</th>\n",
              "      <th>TrueRange</th>\n",
              "      <th>atr_7</th>\n",
              "      <th>atr_14</th>\n",
              "      <th>tomorrow</th>\n",
              "      <th>target</th>\n",
              "    </tr>\n",
              "  </thead>\n",
              "  <tbody>\n",
              "    <tr>\n",
              "      <th>0</th>\n",
              "      <td>54.830002</td>\n",
              "      <td>55.220001</td>\n",
              "      <td>54.189999</td>\n",
              "      <td>54.709999</td>\n",
              "      <td>43195500</td>\n",
              "      <td>51.917475</td>\n",
              "      <td>58.077822</td>\n",
              "      <td>-64.312117</td>\n",
              "      <td>-13.517101</td>\n",
              "      <td>50.2818</td>\n",
              "      <td>50.740946</td>\n",
              "      <td>47.6654</td>\n",
              "      <td>46.914555</td>\n",
              "      <td>1.828901</td>\n",
              "      <td>53.245000</td>\n",
              "      <td>1.030002</td>\n",
              "      <td>1.652052</td>\n",
              "      <td>1.710739</td>\n",
              "      <td>54.560001</td>\n",
              "      <td>0</td>\n",
              "    </tr>\n",
              "    <tr>\n",
              "      <th>1</th>\n",
              "      <td>55.020000</td>\n",
              "      <td>55.650002</td>\n",
              "      <td>54.529999</td>\n",
              "      <td>54.560001</td>\n",
              "      <td>38246200</td>\n",
              "      <td>50.604988</td>\n",
              "      <td>57.387622</td>\n",
              "      <td>-40.054734</td>\n",
              "      <td>-17.361247</td>\n",
              "      <td>50.3194</td>\n",
              "      <td>50.890719</td>\n",
              "      <td>47.8288</td>\n",
              "      <td>47.066897</td>\n",
              "      <td>1.687987</td>\n",
              "      <td>53.542000</td>\n",
              "      <td>1.120003</td>\n",
              "      <td>1.576045</td>\n",
              "      <td>1.668543</td>\n",
              "      <td>57.200001</td>\n",
              "      <td>1</td>\n",
              "    </tr>\n",
              "    <tr>\n",
              "      <th>2</th>\n",
              "      <td>54.419998</td>\n",
              "      <td>57.259998</td>\n",
              "      <td>54.049999</td>\n",
              "      <td>57.200001</td>\n",
              "      <td>68852600</td>\n",
              "      <td>67.483917</td>\n",
              "      <td>65.221525</td>\n",
              "      <td>43.907749</td>\n",
              "      <td>42.364730</td>\n",
              "      <td>50.4254</td>\n",
              "      <td>51.138151</td>\n",
              "      <td>48.0306</td>\n",
              "      <td>47.268784</td>\n",
              "      <td>1.768947</td>\n",
              "      <td>53.985000</td>\n",
              "      <td>3.209999</td>\n",
              "      <td>1.809467</td>\n",
              "      <td>1.778647</td>\n",
              "      <td>57.919998</td>\n",
              "      <td>1</td>\n",
              "    </tr>\n",
              "    <tr>\n",
              "      <th>3</th>\n",
              "      <td>57.700001</td>\n",
              "      <td>58.549999</td>\n",
              "      <td>57.220001</td>\n",
              "      <td>57.919998</td>\n",
              "      <td>77207400</td>\n",
              "      <td>70.672584</td>\n",
              "      <td>67.003189</td>\n",
              "      <td>150.620136</td>\n",
              "      <td>117.886980</td>\n",
              "      <td>50.5348</td>\n",
              "      <td>51.404115</td>\n",
              "      <td>48.2433</td>\n",
              "      <td>47.480966</td>\n",
              "      <td>1.869653</td>\n",
              "      <td>54.484000</td>\n",
              "      <td>1.349998</td>\n",
              "      <td>1.743829</td>\n",
              "      <td>1.748030</td>\n",
              "      <td>58.230000</td>\n",
              "      <td>1</td>\n",
              "    </tr>\n",
              "    <tr>\n",
              "      <th>4</th>\n",
              "      <td>57.599998</td>\n",
              "      <td>58.410000</td>\n",
              "      <td>57.230000</td>\n",
              "      <td>58.230000</td>\n",
              "      <td>56682400</td>\n",
              "      <td>72.049420</td>\n",
              "      <td>67.768804</td>\n",
              "      <td>107.795942</td>\n",
              "      <td>101.415192</td>\n",
              "      <td>50.6604</td>\n",
              "      <td>51.671806</td>\n",
              "      <td>48.4600</td>\n",
              "      <td>47.695073</td>\n",
              "      <td>1.951977</td>\n",
              "      <td>54.953500</td>\n",
              "      <td>1.180000</td>\n",
              "      <td>1.663282</td>\n",
              "      <td>1.707456</td>\n",
              "      <td>57.220001</td>\n",
              "      <td>0</td>\n",
              "    </tr>\n",
              "    <tr>\n",
              "      <th>...</th>\n",
              "      <td>...</td>\n",
              "      <td>...</td>\n",
              "      <td>...</td>\n",
              "      <td>...</td>\n",
              "      <td>...</td>\n",
              "      <td>...</td>\n",
              "      <td>...</td>\n",
              "      <td>...</td>\n",
              "      <td>...</td>\n",
              "      <td>...</td>\n",
              "      <td>...</td>\n",
              "      <td>...</td>\n",
              "      <td>...</td>\n",
              "      <td>...</td>\n",
              "      <td>...</td>\n",
              "      <td>...</td>\n",
              "      <td>...</td>\n",
              "      <td>...</td>\n",
              "      <td>...</td>\n",
              "      <td>...</td>\n",
              "    </tr>\n",
              "    <tr>\n",
              "      <th>2511</th>\n",
              "      <td>355.579987</td>\n",
              "      <td>357.200012</td>\n",
              "      <td>351.220001</td>\n",
              "      <td>353.390015</td>\n",
              "      <td>11764200</td>\n",
              "      <td>75.599633</td>\n",
              "      <td>67.333880</td>\n",
              "      <td>76.743391</td>\n",
              "      <td>118.091091</td>\n",
              "      <td>325.3110</td>\n",
              "      <td>327.435849</td>\n",
              "      <td>313.7337</td>\n",
              "      <td>312.872285</td>\n",
              "      <td>6.988186</td>\n",
              "      <td>334.351501</td>\n",
              "      <td>5.980011</td>\n",
              "      <td>8.002103</td>\n",
              "      <td>8.111983</td>\n",
              "      <td>354.829987</td>\n",
              "      <td>1</td>\n",
              "    </tr>\n",
              "    <tr>\n",
              "      <th>2512</th>\n",
              "      <td>354.989990</td>\n",
              "      <td>356.980011</td>\n",
              "      <td>353.450012</td>\n",
              "      <td>354.829987</td>\n",
              "      <td>9898600</td>\n",
              "      <td>77.018164</td>\n",
              "      <td>68.186993</td>\n",
              "      <td>77.588047</td>\n",
              "      <td>103.323614</td>\n",
              "      <td>326.1138</td>\n",
              "      <td>328.510129</td>\n",
              "      <td>314.1501</td>\n",
              "      <td>313.703131</td>\n",
              "      <td>7.482646</td>\n",
              "      <td>335.358000</td>\n",
              "      <td>3.589996</td>\n",
              "      <td>7.371802</td>\n",
              "      <td>7.788984</td>\n",
              "      <td>357.829987</td>\n",
              "      <td>1</td>\n",
              "    </tr>\n",
              "    <tr>\n",
              "      <th>2513</th>\n",
              "      <td>356.070007</td>\n",
              "      <td>359.000000</td>\n",
              "      <td>355.309998</td>\n",
              "      <td>357.829987</td>\n",
              "      <td>13207900</td>\n",
              "      <td>79.863540</td>\n",
              "      <td>69.947896</td>\n",
              "      <td>105.699338</td>\n",
              "      <td>100.793824</td>\n",
              "      <td>326.8474</td>\n",
              "      <td>329.659928</td>\n",
              "      <td>314.6211</td>\n",
              "      <td>314.576930</td>\n",
              "      <td>8.024088</td>\n",
              "      <td>336.300000</td>\n",
              "      <td>4.170013</td>\n",
              "      <td>6.914403</td>\n",
              "      <td>7.530486</td>\n",
              "      <td>358.320007</td>\n",
              "      <td>1</td>\n",
              "    </tr>\n",
              "    <tr>\n",
              "      <th>2514</th>\n",
              "      <td>359.700012</td>\n",
              "      <td>361.899994</td>\n",
              "      <td>357.809998</td>\n",
              "      <td>358.320007</td>\n",
              "      <td>11798800</td>\n",
              "      <td>80.327681</td>\n",
              "      <td>70.237681</td>\n",
              "      <td>130.191423</td>\n",
              "      <td>99.110535</td>\n",
              "      <td>327.5338</td>\n",
              "      <td>330.783852</td>\n",
              "      <td>315.0387</td>\n",
              "      <td>315.443129</td>\n",
              "      <td>8.395942</td>\n",
              "      <td>337.606000</td>\n",
              "      <td>4.089996</td>\n",
              "      <td>6.510917</td>\n",
              "      <td>7.284737</td>\n",
              "      <td>353.959991</td>\n",
              "      <td>0</td>\n",
              "    </tr>\n",
              "    <tr>\n",
              "      <th>2515</th>\n",
              "      <td>358.989990</td>\n",
              "      <td>360.000000</td>\n",
              "      <td>351.820007</td>\n",
              "      <td>353.959991</td>\n",
              "      <td>14980500</td>\n",
              "      <td>64.818560</td>\n",
              "      <td>64.296831</td>\n",
              "      <td>8.900457</td>\n",
              "      <td>64.460519</td>\n",
              "      <td>328.2736</td>\n",
              "      <td>331.692720</td>\n",
              "      <td>315.4519</td>\n",
              "      <td>316.205839</td>\n",
              "      <td>8.243792</td>\n",
              "      <td>338.946500</td>\n",
              "      <td>8.179993</td>\n",
              "      <td>6.749356</td>\n",
              "      <td>7.348683</td>\n",
              "      <td>NaN</td>\n",
              "      <td>0</td>\n",
              "    </tr>\n",
              "  </tbody>\n",
              "</table>\n",
              "<p>2516 rows × 20 columns</p>\n",
              "</div>\n",
              "    <div class=\"colab-df-buttons\">\n",
              "\n",
              "  <div class=\"colab-df-container\">\n",
              "    <button class=\"colab-df-convert\" onclick=\"convertToInteractive('df-4ade78aa-b3fe-4a78-b6fe-41268c78f045')\"\n",
              "            title=\"Convert this dataframe to an interactive table.\"\n",
              "            style=\"display:none;\">\n",
              "\n",
              "  <svg xmlns=\"http://www.w3.org/2000/svg\" height=\"24px\" viewBox=\"0 -960 960 960\">\n",
              "    <path d=\"M120-120v-720h720v720H120Zm60-500h600v-160H180v160Zm220 220h160v-160H400v160Zm0 220h160v-160H400v160ZM180-400h160v-160H180v160Zm440 0h160v-160H620v160ZM180-180h160v-160H180v160Zm440 0h160v-160H620v160Z\"/>\n",
              "  </svg>\n",
              "    </button>\n",
              "\n",
              "  <style>\n",
              "    .colab-df-container {\n",
              "      display:flex;\n",
              "      gap: 12px;\n",
              "    }\n",
              "\n",
              "    .colab-df-convert {\n",
              "      background-color: #E8F0FE;\n",
              "      border: none;\n",
              "      border-radius: 50%;\n",
              "      cursor: pointer;\n",
              "      display: none;\n",
              "      fill: #1967D2;\n",
              "      height: 32px;\n",
              "      padding: 0 0 0 0;\n",
              "      width: 32px;\n",
              "    }\n",
              "\n",
              "    .colab-df-convert:hover {\n",
              "      background-color: #E2EBFA;\n",
              "      box-shadow: 0px 1px 2px rgba(60, 64, 67, 0.3), 0px 1px 3px 1px rgba(60, 64, 67, 0.15);\n",
              "      fill: #174EA6;\n",
              "    }\n",
              "\n",
              "    .colab-df-buttons div {\n",
              "      margin-bottom: 4px;\n",
              "    }\n",
              "\n",
              "    [theme=dark] .colab-df-convert {\n",
              "      background-color: #3B4455;\n",
              "      fill: #D2E3FC;\n",
              "    }\n",
              "\n",
              "    [theme=dark] .colab-df-convert:hover {\n",
              "      background-color: #434B5C;\n",
              "      box-shadow: 0px 1px 3px 1px rgba(0, 0, 0, 0.15);\n",
              "      filter: drop-shadow(0px 1px 2px rgba(0, 0, 0, 0.3));\n",
              "      fill: #FFFFFF;\n",
              "    }\n",
              "  </style>\n",
              "\n",
              "    <script>\n",
              "      const buttonEl =\n",
              "        document.querySelector('#df-4ade78aa-b3fe-4a78-b6fe-41268c78f045 button.colab-df-convert');\n",
              "      buttonEl.style.display =\n",
              "        google.colab.kernel.accessAllowed ? 'block' : 'none';\n",
              "\n",
              "      async function convertToInteractive(key) {\n",
              "        const element = document.querySelector('#df-4ade78aa-b3fe-4a78-b6fe-41268c78f045');\n",
              "        const dataTable =\n",
              "          await google.colab.kernel.invokeFunction('convertToInteractive',\n",
              "                                                    [key], {});\n",
              "        if (!dataTable) return;\n",
              "\n",
              "        const docLinkHtml = 'Like what you see? Visit the ' +\n",
              "          '<a target=\"_blank\" href=https://colab.research.google.com/notebooks/data_table.ipynb>data table notebook</a>'\n",
              "          + ' to learn more about interactive tables.';\n",
              "        element.innerHTML = '';\n",
              "        dataTable['output_type'] = 'display_data';\n",
              "        await google.colab.output.renderOutput(dataTable, element);\n",
              "        const docLink = document.createElement('div');\n",
              "        docLink.innerHTML = docLinkHtml;\n",
              "        element.appendChild(docLink);\n",
              "      }\n",
              "    </script>\n",
              "  </div>\n",
              "\n",
              "\n",
              "<div id=\"df-4858efb8-c44e-4fc7-bdb9-efd7a0ecd20f\">\n",
              "  <button class=\"colab-df-quickchart\" onclick=\"quickchart('df-4858efb8-c44e-4fc7-bdb9-efd7a0ecd20f')\"\n",
              "            title=\"Suggest charts\"\n",
              "            style=\"display:none;\">\n",
              "\n",
              "<svg xmlns=\"http://www.w3.org/2000/svg\" height=\"24px\"viewBox=\"0 0 24 24\"\n",
              "     width=\"24px\">\n",
              "    <g>\n",
              "        <path d=\"M19 3H5c-1.1 0-2 .9-2 2v14c0 1.1.9 2 2 2h14c1.1 0 2-.9 2-2V5c0-1.1-.9-2-2-2zM9 17H7v-7h2v7zm4 0h-2V7h2v10zm4 0h-2v-4h2v4z\"/>\n",
              "    </g>\n",
              "</svg>\n",
              "  </button>\n",
              "\n",
              "<style>\n",
              "  .colab-df-quickchart {\n",
              "      --bg-color: #E8F0FE;\n",
              "      --fill-color: #1967D2;\n",
              "      --hover-bg-color: #E2EBFA;\n",
              "      --hover-fill-color: #174EA6;\n",
              "      --disabled-fill-color: #AAA;\n",
              "      --disabled-bg-color: #DDD;\n",
              "  }\n",
              "\n",
              "  [theme=dark] .colab-df-quickchart {\n",
              "      --bg-color: #3B4455;\n",
              "      --fill-color: #D2E3FC;\n",
              "      --hover-bg-color: #434B5C;\n",
              "      --hover-fill-color: #FFFFFF;\n",
              "      --disabled-bg-color: #3B4455;\n",
              "      --disabled-fill-color: #666;\n",
              "  }\n",
              "\n",
              "  .colab-df-quickchart {\n",
              "    background-color: var(--bg-color);\n",
              "    border: none;\n",
              "    border-radius: 50%;\n",
              "    cursor: pointer;\n",
              "    display: none;\n",
              "    fill: var(--fill-color);\n",
              "    height: 32px;\n",
              "    padding: 0;\n",
              "    width: 32px;\n",
              "  }\n",
              "\n",
              "  .colab-df-quickchart:hover {\n",
              "    background-color: var(--hover-bg-color);\n",
              "    box-shadow: 0 1px 2px rgba(60, 64, 67, 0.3), 0 1px 3px 1px rgba(60, 64, 67, 0.15);\n",
              "    fill: var(--button-hover-fill-color);\n",
              "  }\n",
              "\n",
              "  .colab-df-quickchart-complete:disabled,\n",
              "  .colab-df-quickchart-complete:disabled:hover {\n",
              "    background-color: var(--disabled-bg-color);\n",
              "    fill: var(--disabled-fill-color);\n",
              "    box-shadow: none;\n",
              "  }\n",
              "\n",
              "  .colab-df-spinner {\n",
              "    border: 2px solid var(--fill-color);\n",
              "    border-color: transparent;\n",
              "    border-bottom-color: var(--fill-color);\n",
              "    animation:\n",
              "      spin 1s steps(1) infinite;\n",
              "  }\n",
              "\n",
              "  @keyframes spin {\n",
              "    0% {\n",
              "      border-color: transparent;\n",
              "      border-bottom-color: var(--fill-color);\n",
              "      border-left-color: var(--fill-color);\n",
              "    }\n",
              "    20% {\n",
              "      border-color: transparent;\n",
              "      border-left-color: var(--fill-color);\n",
              "      border-top-color: var(--fill-color);\n",
              "    }\n",
              "    30% {\n",
              "      border-color: transparent;\n",
              "      border-left-color: var(--fill-color);\n",
              "      border-top-color: var(--fill-color);\n",
              "      border-right-color: var(--fill-color);\n",
              "    }\n",
              "    40% {\n",
              "      border-color: transparent;\n",
              "      border-right-color: var(--fill-color);\n",
              "      border-top-color: var(--fill-color);\n",
              "    }\n",
              "    60% {\n",
              "      border-color: transparent;\n",
              "      border-right-color: var(--fill-color);\n",
              "    }\n",
              "    80% {\n",
              "      border-color: transparent;\n",
              "      border-right-color: var(--fill-color);\n",
              "      border-bottom-color: var(--fill-color);\n",
              "    }\n",
              "    90% {\n",
              "      border-color: transparent;\n",
              "      border-bottom-color: var(--fill-color);\n",
              "    }\n",
              "  }\n",
              "</style>\n",
              "\n",
              "  <script>\n",
              "    async function quickchart(key) {\n",
              "      const quickchartButtonEl =\n",
              "        document.querySelector('#' + key + ' button');\n",
              "      quickchartButtonEl.disabled = true;  // To prevent multiple clicks.\n",
              "      quickchartButtonEl.classList.add('colab-df-spinner');\n",
              "      try {\n",
              "        const charts = await google.colab.kernel.invokeFunction(\n",
              "            'suggestCharts', [key], {});\n",
              "      } catch (error) {\n",
              "        console.error('Error during call to suggestCharts:', error);\n",
              "      }\n",
              "      quickchartButtonEl.classList.remove('colab-df-spinner');\n",
              "      quickchartButtonEl.classList.add('colab-df-quickchart-complete');\n",
              "    }\n",
              "    (() => {\n",
              "      let quickchartButtonEl =\n",
              "        document.querySelector('#df-4858efb8-c44e-4fc7-bdb9-efd7a0ecd20f button');\n",
              "      quickchartButtonEl.style.display =\n",
              "        google.colab.kernel.accessAllowed ? 'block' : 'none';\n",
              "    })();\n",
              "  </script>\n",
              "</div>\n",
              "    </div>\n",
              "  </div>\n"
            ],
            "text/plain": [
              "            open        high         low       close    volume      rsi_7  \\\n",
              "0      54.830002   55.220001   54.189999   54.709999  43195500  51.917475   \n",
              "1      55.020000   55.650002   54.529999   54.560001  38246200  50.604988   \n",
              "2      54.419998   57.259998   54.049999   57.200001  68852600  67.483917   \n",
              "3      57.700001   58.549999   57.220001   57.919998  77207400  70.672584   \n",
              "4      57.599998   58.410000   57.230000   58.230000  56682400  72.049420   \n",
              "...          ...         ...         ...         ...       ...        ...   \n",
              "2511  355.579987  357.200012  351.220001  353.390015  11764200  75.599633   \n",
              "2512  354.989990  356.980011  353.450012  354.829987   9898600  77.018164   \n",
              "2513  356.070007  359.000000  355.309998  357.829987  13207900  79.863540   \n",
              "2514  359.700012  361.899994  357.809998  358.320007  11798800  80.327681   \n",
              "2515  358.989990  360.000000  351.820007  353.959991  14980500  64.818560   \n",
              "\n",
              "         rsi_14       cci_7      cci_14    sma_50      ema_50   sma_100  \\\n",
              "0     58.077822  -64.312117  -13.517101   50.2818   50.740946   47.6654   \n",
              "1     57.387622  -40.054734  -17.361247   50.3194   50.890719   47.8288   \n",
              "2     65.221525   43.907749   42.364730   50.4254   51.138151   48.0306   \n",
              "3     67.003189  150.620136  117.886980   50.5348   51.404115   48.2433   \n",
              "4     67.768804  107.795942  101.415192   50.6604   51.671806   48.4600   \n",
              "...         ...         ...         ...       ...         ...       ...   \n",
              "2511  67.333880   76.743391  118.091091  325.3110  327.435849  313.7337   \n",
              "2512  68.186993   77.588047  103.323614  326.1138  328.510129  314.1501   \n",
              "2513  69.947896  105.699338  100.793824  326.8474  329.659928  314.6211   \n",
              "2514  70.237681  130.191423   99.110535  327.5338  330.783852  315.0387   \n",
              "2515  64.296831    8.900457   64.460519  328.2736  331.692720  315.4519   \n",
              "\n",
              "         ema_100      macd   bollinger  TrueRange     atr_7    atr_14  \\\n",
              "0      46.914555  1.828901   53.245000   1.030002  1.652052  1.710739   \n",
              "1      47.066897  1.687987   53.542000   1.120003  1.576045  1.668543   \n",
              "2      47.268784  1.768947   53.985000   3.209999  1.809467  1.778647   \n",
              "3      47.480966  1.869653   54.484000   1.349998  1.743829  1.748030   \n",
              "4      47.695073  1.951977   54.953500   1.180000  1.663282  1.707456   \n",
              "...          ...       ...         ...        ...       ...       ...   \n",
              "2511  312.872285  6.988186  334.351501   5.980011  8.002103  8.111983   \n",
              "2512  313.703131  7.482646  335.358000   3.589996  7.371802  7.788984   \n",
              "2513  314.576930  8.024088  336.300000   4.170013  6.914403  7.530486   \n",
              "2514  315.443129  8.395942  337.606000   4.089996  6.510917  7.284737   \n",
              "2515  316.205839  8.243792  338.946500   8.179993  6.749356  7.348683   \n",
              "\n",
              "        tomorrow  target  \n",
              "0      54.560001       0  \n",
              "1      57.200001       1  \n",
              "2      57.919998       1  \n",
              "3      58.230000       1  \n",
              "4      57.220001       0  \n",
              "...          ...     ...  \n",
              "2511  354.829987       1  \n",
              "2512  357.829987       1  \n",
              "2513  358.320007       1  \n",
              "2514  353.959991       0  \n",
              "2515         NaN       0  \n",
              "\n",
              "[2516 rows x 20 columns]"
            ]
          },
          "execution_count": 10,
          "metadata": {},
          "output_type": "execute_result"
        }
      ],
      "source": [
        "meta"
      ]
    },
    {
      "cell_type": "markdown",
      "id": "bca3feb8",
      "metadata": {
        "id": "bca3feb8"
      },
      "source": [
        "# Basic Model"
      ]
    },
    {
      "cell_type": "markdown",
      "id": "O9nEe88C0GUT",
      "metadata": {
        "id": "O9nEe88C0GUT"
      },
      "source": [
        "#### Let's first create a very simple model. This won't have neural networks or anything too advanced. We just want to see if we can get an accurate read from this data using something simple."
      ]
    },
    {
      "cell_type": "markdown",
      "id": "Zhkuyxy_0SYU",
      "metadata": {
        "id": "Zhkuyxy_0SYU"
      },
      "source": [
        "#### The test set will be the last 250 days of data (approximately one year of data). We'll use the rest of the data to create the model."
      ]
    },
    {
      "cell_type": "code",
      "execution_count": null,
      "id": "fa050ad9",
      "metadata": {
        "colab": {
          "base_uri": "https://localhost:8080/",
          "height": 75
        },
        "id": "fa050ad9",
        "outputId": "fb917ca7-8589-409f-def5-3afdc120c201"
      },
      "outputs": [
        {
          "data": {
            "text/html": [
              "<style>#sk-container-id-1 {color: black;background-color: white;}#sk-container-id-1 pre{padding: 0;}#sk-container-id-1 div.sk-toggleable {background-color: white;}#sk-container-id-1 label.sk-toggleable__label {cursor: pointer;display: block;width: 100%;margin-bottom: 0;padding: 0.3em;box-sizing: border-box;text-align: center;}#sk-container-id-1 label.sk-toggleable__label-arrow:before {content: \"▸\";float: left;margin-right: 0.25em;color: #696969;}#sk-container-id-1 label.sk-toggleable__label-arrow:hover:before {color: black;}#sk-container-id-1 div.sk-estimator:hover label.sk-toggleable__label-arrow:before {color: black;}#sk-container-id-1 div.sk-toggleable__content {max-height: 0;max-width: 0;overflow: hidden;text-align: left;background-color: #f0f8ff;}#sk-container-id-1 div.sk-toggleable__content pre {margin: 0.2em;color: black;border-radius: 0.25em;background-color: #f0f8ff;}#sk-container-id-1 input.sk-toggleable__control:checked~div.sk-toggleable__content {max-height: 200px;max-width: 100%;overflow: auto;}#sk-container-id-1 input.sk-toggleable__control:checked~label.sk-toggleable__label-arrow:before {content: \"▾\";}#sk-container-id-1 div.sk-estimator input.sk-toggleable__control:checked~label.sk-toggleable__label {background-color: #d4ebff;}#sk-container-id-1 div.sk-label input.sk-toggleable__control:checked~label.sk-toggleable__label {background-color: #d4ebff;}#sk-container-id-1 input.sk-hidden--visually {border: 0;clip: rect(1px 1px 1px 1px);clip: rect(1px, 1px, 1px, 1px);height: 1px;margin: -1px;overflow: hidden;padding: 0;position: absolute;width: 1px;}#sk-container-id-1 div.sk-estimator {font-family: monospace;background-color: #f0f8ff;border: 1px dotted black;border-radius: 0.25em;box-sizing: border-box;margin-bottom: 0.5em;}#sk-container-id-1 div.sk-estimator:hover {background-color: #d4ebff;}#sk-container-id-1 div.sk-parallel-item::after {content: \"\";width: 100%;border-bottom: 1px solid gray;flex-grow: 1;}#sk-container-id-1 div.sk-label:hover label.sk-toggleable__label {background-color: #d4ebff;}#sk-container-id-1 div.sk-serial::before {content: \"\";position: absolute;border-left: 1px solid gray;box-sizing: border-box;top: 0;bottom: 0;left: 50%;z-index: 0;}#sk-container-id-1 div.sk-serial {display: flex;flex-direction: column;align-items: center;background-color: white;padding-right: 0.2em;padding-left: 0.2em;position: relative;}#sk-container-id-1 div.sk-item {position: relative;z-index: 1;}#sk-container-id-1 div.sk-parallel {display: flex;align-items: stretch;justify-content: center;background-color: white;position: relative;}#sk-container-id-1 div.sk-item::before, #sk-container-id-1 div.sk-parallel-item::before {content: \"\";position: absolute;border-left: 1px solid gray;box-sizing: border-box;top: 0;bottom: 0;left: 50%;z-index: -1;}#sk-container-id-1 div.sk-parallel-item {display: flex;flex-direction: column;z-index: 1;position: relative;background-color: white;}#sk-container-id-1 div.sk-parallel-item:first-child::after {align-self: flex-end;width: 50%;}#sk-container-id-1 div.sk-parallel-item:last-child::after {align-self: flex-start;width: 50%;}#sk-container-id-1 div.sk-parallel-item:only-child::after {width: 0;}#sk-container-id-1 div.sk-dashed-wrapped {border: 1px dashed gray;margin: 0 0.4em 0.5em 0.4em;box-sizing: border-box;padding-bottom: 0.4em;background-color: white;}#sk-container-id-1 div.sk-label label {font-family: monospace;font-weight: bold;display: inline-block;line-height: 1.2em;}#sk-container-id-1 div.sk-label-container {text-align: center;}#sk-container-id-1 div.sk-container {/* jupyter's `normalize.less` sets `[hidden] { display: none; }` but bootstrap.min.css set `[hidden] { display: none !important; }` so we also need the `!important` here to be able to override the default hidden behavior on the sphinx rendered scikit-learn.org. See: https://github.com/scikit-learn/scikit-learn/issues/21755 */display: inline-block !important;position: relative;}#sk-container-id-1 div.sk-text-repr-fallback {display: none;}</style><div id=\"sk-container-id-1\" class=\"sk-top-container\"><div class=\"sk-text-repr-fallback\"><pre>RandomForestClassifier(min_samples_split=100, random_state=1)</pre><b>In a Jupyter environment, please rerun this cell to show the HTML representation or trust the notebook. <br />On GitHub, the HTML representation is unable to render, please try loading this page with nbviewer.org.</b></div><div class=\"sk-container\" hidden><div class=\"sk-item\"><div class=\"sk-estimator sk-toggleable\"><input class=\"sk-toggleable__control sk-hidden--visually\" id=\"sk-estimator-id-1\" type=\"checkbox\" checked><label for=\"sk-estimator-id-1\" class=\"sk-toggleable__label sk-toggleable__label-arrow\">RandomForestClassifier</label><div class=\"sk-toggleable__content\"><pre>RandomForestClassifier(min_samples_split=100, random_state=1)</pre></div></div></div></div></div>"
            ],
            "text/plain": [
              "RandomForestClassifier(min_samples_split=100, random_state=1)"
            ]
          },
          "execution_count": 11,
          "metadata": {},
          "output_type": "execute_result"
        }
      ],
      "source": [
        "from sklearn.ensemble import RandomForestClassifier\n",
        "\n",
        "model = RandomForestClassifier(n_estimators=100, min_samples_split=100, random_state=1)\n",
        "\n",
        "train = meta.iloc[:-250]\n",
        "test = meta.iloc[-250:]\n",
        "\n",
        "predictors = [\"close\",\"volume\",\"open\",\"high\",\"low\"]\n",
        "model.fit(train[predictors], train[\"target\"])"
      ]
    },
    {
      "cell_type": "code",
      "execution_count": null,
      "id": "c01bace3",
      "metadata": {
        "id": "c01bace3"
      },
      "outputs": [],
      "source": [
        "from sklearn.metrics import precision_score\n",
        "\n",
        "preds = model.predict(test[predictors])"
      ]
    },
    {
      "cell_type": "code",
      "execution_count": null,
      "id": "b122a4bd",
      "metadata": {
        "id": "b122a4bd"
      },
      "outputs": [],
      "source": [
        "preds = pd.Series(preds, index=test.index)"
      ]
    },
    {
      "cell_type": "code",
      "execution_count": null,
      "id": "ef546b7f",
      "metadata": {
        "colab": {
          "base_uri": "https://localhost:8080/"
        },
        "id": "ef546b7f",
        "outputId": "2de0ba4d-2fdb-4682-d1e6-d0e85c50b5b7"
      },
      "outputs": [
        {
          "data": {
            "text/plain": [
              "0.5460526315789473"
            ]
          },
          "execution_count": 14,
          "metadata": {},
          "output_type": "execute_result"
        }
      ],
      "source": [
        "precision_score(test[\"target\"], preds)"
      ]
    },
    {
      "cell_type": "markdown",
      "id": "RPn3R9ZY0tYH",
      "metadata": {
        "id": "RPn3R9ZY0tYH"
      },
      "source": [
        "#### Our precision using the above model is .546, which means we'd be right more than half the time. That's not a bad place to start! Now let's backtest the model and determine where we'd be if we decided to just play the odds."
      ]
    },
    {
      "cell_type": "code",
      "execution_count": null,
      "id": "9bf3bf57",
      "metadata": {
        "id": "9bf3bf57"
      },
      "outputs": [],
      "source": [
        "combined = pd.concat([test[\"target\"], preds],axis=1)"
      ]
    },
    {
      "cell_type": "code",
      "execution_count": null,
      "id": "33cc84ba",
      "metadata": {
        "colab": {
          "base_uri": "https://localhost:8080/",
          "height": 448
        },
        "id": "33cc84ba",
        "outputId": "f4693cb5-282e-441d-ab14-eb394c4b4fdb"
      },
      "outputs": [
        {
          "data": {
            "text/plain": [
              "<Axes: >"
            ]
          },
          "execution_count": 16,
          "metadata": {},
          "output_type": "execute_result"
        },
        {
          "data": {
            "image/png": "[encoded data removed]",
            "text/plain": [
              "<Figure size 640x480 with 1 Axes>"
            ]
          },
          "metadata": {},
          "output_type": "display_data"
        }
      ],
      "source": [
        "combined.plot()"
      ]
    },
    {
      "cell_type": "code",
      "execution_count": null,
      "id": "8653f564",
      "metadata": {
        "id": "8653f564"
      },
      "outputs": [],
      "source": [
        "def predict(train, test, predictors, model):\n",
        "    model.fit(train[predictors], train[\"target\"])\n",
        "    preds = model.predict(test[predictors])\n",
        "    preds = pd.Series(preds, index=test.index, name=\"predictions\")\n",
        "    combined = pd.concat([test[\"target\"], preds], axis=1)\n",
        "    return combined"
      ]
    },
    {
      "cell_type": "code",
      "execution_count": null,
      "id": "b21d46db",
      "metadata": {
        "id": "b21d46db"
      },
      "outputs": [],
      "source": [
        "def backtest(data, model, predictors, start=250, step=250):\n",
        "        all_predictions = []\n",
        "\n",
        "        for i in range(start, data.shape[0], step):\n",
        "            train = data.iloc[0:i].copy()\n",
        "            test = data.iloc[i:(i+step)].copy()\n",
        "            predictions = predict(train, test, predictors, model)\n",
        "            all_predictions.append(predictions)\n",
        "        return pd.concat(all_predictions)"
      ]
    },
    {
      "cell_type": "code",
      "execution_count": null,
      "id": "13b44ef6",
      "metadata": {
        "id": "13b44ef6"
      },
      "outputs": [],
      "source": [
        "predictions = backtest(meta, model, predictors)"
      ]
    },
    {
      "cell_type": "code",
      "execution_count": null,
      "id": "058f4abd",
      "metadata": {
        "colab": {
          "base_uri": "https://localhost:8080/"
        },
        "id": "058f4abd",
        "outputId": "cd95aa9a-de28-43f0-8fbc-54fe77c0ec16"
      },
      "outputs": [
        {
          "data": {
            "text/plain": [
              "0    1541\n",
              "1     725\n",
              "Name: predictions, dtype: int64"
            ]
          },
          "execution_count": 20,
          "metadata": {},
          "output_type": "execute_result"
        }
      ],
      "source": [
        "predictions[\"predictions\"].value_counts()"
      ]
    },
    {
      "cell_type": "code",
      "execution_count": null,
      "id": "7055ffba",
      "metadata": {
        "colab": {
          "base_uri": "https://localhost:8080/"
        },
        "id": "7055ffba",
        "outputId": "c5be0ee9-1ac3-4a75-af10-871f4b921e89"
      },
      "outputs": [
        {
          "data": {
            "text/plain": [
              "0.52"
            ]
          },
          "execution_count": 21,
          "metadata": {},
          "output_type": "execute_result"
        }
      ],
      "source": [
        "precision_score(predictions[\"target\"], predictions[\"predictions\"])"
      ]
    },
    {
      "cell_type": "code",
      "execution_count": null,
      "id": "d54a5785",
      "metadata": {
        "colab": {
          "base_uri": "https://localhost:8080/"
        },
        "id": "d54a5785",
        "outputId": "60c86850-253c-435a-c6b7-eb77395c362c"
      },
      "outputs": [
        {
          "data": {
            "text/plain": [
              "1    0.524272\n",
              "0    0.475728\n",
              "Name: target, dtype: float64"
            ]
          },
          "execution_count": 22,
          "metadata": {},
          "output_type": "execute_result"
        }
      ],
      "source": [
        "predictions[\"target\"].value_counts() / predictions.shape[0]"
      ]
    },
    {
      "cell_type": "markdown",
      "id": "Fhs2e-WP1Qyu",
      "metadata": {
        "id": "Fhs2e-WP1Qyu"
      },
      "source": [
        "#### It looks like we'd be better off just buying stock every day than if we used the backtest model since we'd be correct 52.4% of the time just buying stock than if we used the model which is correct 52% of the time."
      ]
    },
    {
      "cell_type": "markdown",
      "id": "rAn4owlW22-r",
      "metadata": {
        "id": "rAn4owlW22-r"
      },
      "source": [
        "# Intervals Model"
      ]
    },
    {
      "cell_type": "markdown",
      "id": "Wx7wMUhg10SL",
      "metadata": {
        "id": "Wx7wMUhg10SL"
      },
      "source": [
        "#### It might be becoming too well trained on the training data since we don't have enough variables, so let's create some. Let's define the close ratio for different intervals from each data point. This should add some clarifying information, so the model can improve without overfitting too quickly."
      ]
    },
    {
      "cell_type": "code",
      "execution_count": null,
      "id": "bd15b845",
      "metadata": {
        "id": "bd15b845"
      },
      "outputs": [],
      "source": [
        "horizons = [2, 5, 60, 100, 150, 200, 250]\n",
        "new_predictors = []\n",
        "\n",
        "for horizon in horizons:\n",
        "    rolling_averages = meta.rolling(horizon).mean()\n",
        "\n",
        "    ratio_column = f\"close_ratio_{horizon}\"\n",
        "    meta[ratio_column] = meta[\"close\"] / rolling_averages[\"close\"]\n",
        "\n",
        "    trend_column = f\"trend_{horizon}\"\n",
        "    meta[trend_column] = meta.shift(1).rolling(horizon).sum()[\"target\"]\n",
        "\n",
        "    new_predictors += [ratio_column, trend_column]"
      ]
    },
    {
      "cell_type": "code",
      "execution_count": null,
      "id": "ab40d78f",
      "metadata": {
        "id": "ab40d78f"
      },
      "outputs": [],
      "source": [
        "meta = meta.dropna()"
      ]
    },
    {
      "cell_type": "code",
      "execution_count": null,
      "id": "41c86643",
      "metadata": {
        "colab": {
          "base_uri": "https://localhost:8080/",
          "height": 444
        },
        "id": "41c86643",
        "outputId": "4b394a7a-09d8-47d8-c9e0-7a629356e4bc"
      },
      "outputs": [
        {
          "data": {
            "application/vnd.google.colaboratory.intrinsic+json": {
              "type": "dataframe",
              "variable_name": "meta"
            },
            "text/html": [
              "\n",
              "  <div id=\"df-60838425-7a4c-4326-ae68-af3185af8fdb\" class=\"colab-df-container\">\n",
              "    <div>\n",
              "<style scoped>\n",
              "    .dataframe tbody tr th:only-of-type {\n",
              "        vertical-align: middle;\n",
              "    }\n",
              "\n",
              "    .dataframe tbody tr th {\n",
              "        vertical-align: top;\n",
              "    }\n",
              "\n",
              "    .dataframe thead th {\n",
              "        text-align: right;\n",
              "    }\n",
              "</style>\n",
              "<table border=\"1\" class=\"dataframe\">\n",
              "  <thead>\n",
              "    <tr style=\"text-align: right;\">\n",
              "      <th></th>\n",
              "      <th>open</th>\n",
              "      <th>high</th>\n",
              "      <th>low</th>\n",
              "      <th>close</th>\n",
              "      <th>volume</th>\n",
              "      <th>rsi_7</th>\n",
              "      <th>rsi_14</th>\n",
              "      <th>cci_7</th>\n",
              "      <th>cci_14</th>\n",
              "      <th>sma_50</th>\n",
              "      <th>...</th>\n",
              "      <th>close_ratio_60</th>\n",
              "      <th>trend_60</th>\n",
              "      <th>close_ratio_100</th>\n",
              "      <th>trend_100</th>\n",
              "      <th>close_ratio_150</th>\n",
              "      <th>trend_150</th>\n",
              "      <th>close_ratio_200</th>\n",
              "      <th>trend_200</th>\n",
              "      <th>close_ratio_250</th>\n",
              "      <th>trend_250</th>\n",
              "    </tr>\n",
              "  </thead>\n",
              "  <tbody>\n",
              "    <tr>\n",
              "      <th>250</th>\n",
              "      <td>79.849998</td>\n",
              "      <td>80.589996</td>\n",
              "      <td>79.099998</td>\n",
              "      <td>79.220001</td>\n",
              "      <td>14370800</td>\n",
              "      <td>52.190009</td>\n",
              "      <td>55.817714</td>\n",
              "      <td>-90.879423</td>\n",
              "      <td>35.196643</td>\n",
              "      <td>76.695999</td>\n",
              "      <td>...</td>\n",
              "      <td>1.037056</td>\n",
              "      <td>36.0</td>\n",
              "      <td>1.038764</td>\n",
              "      <td>61.0</td>\n",
              "      <td>1.080453</td>\n",
              "      <td>87.0</td>\n",
              "      <td>1.129549</td>\n",
              "      <td>115.0</td>\n",
              "      <td>1.151763</td>\n",
              "      <td>137.0</td>\n",
              "    </tr>\n",
              "    <tr>\n",
              "      <th>251</th>\n",
              "      <td>79.540001</td>\n",
              "      <td>79.800003</td>\n",
              "      <td>77.860001</td>\n",
              "      <td>78.019997</td>\n",
              "      <td>19935400</td>\n",
              "      <td>42.551166</td>\n",
              "      <td>50.719762</td>\n",
              "      <td>-159.345309</td>\n",
              "      <td>-11.733628</td>\n",
              "      <td>76.717399</td>\n",
              "      <td>...</td>\n",
              "      <td>1.021244</td>\n",
              "      <td>35.0</td>\n",
              "      <td>1.022364</td>\n",
              "      <td>61.0</td>\n",
              "      <td>1.062716</td>\n",
              "      <td>86.0</td>\n",
              "      <td>1.111739</td>\n",
              "      <td>114.0</td>\n",
              "      <td>1.132771</td>\n",
              "      <td>137.0</td>\n",
              "    </tr>\n",
              "    <tr>\n",
              "      <th>252</th>\n",
              "      <td>78.580002</td>\n",
              "      <td>78.930000</td>\n",
              "      <td>77.699997</td>\n",
              "      <td>78.449997</td>\n",
              "      <td>18177500</td>\n",
              "      <td>46.668833</td>\n",
              "      <td>52.397499</td>\n",
              "      <td>-112.486262</td>\n",
              "      <td>-23.039214</td>\n",
              "      <td>76.712599</td>\n",
              "      <td>...</td>\n",
              "      <td>1.026389</td>\n",
              "      <td>36.0</td>\n",
              "      <td>1.027325</td>\n",
              "      <td>61.0</td>\n",
              "      <td>1.067105</td>\n",
              "      <td>87.0</td>\n",
              "      <td>1.117054</td>\n",
              "      <td>115.0</td>\n",
              "      <td>1.137610</td>\n",
              "      <td>137.0</td>\n",
              "    </tr>\n",
              "    <tr>\n",
              "      <th>253</th>\n",
              "      <td>77.980003</td>\n",
              "      <td>79.250000</td>\n",
              "      <td>76.860001</td>\n",
              "      <td>77.190002</td>\n",
              "      <td>26452200</td>\n",
              "      <td>37.484140</td>\n",
              "      <td>47.314390</td>\n",
              "      <td>-106.403710</td>\n",
              "      <td>-47.529896</td>\n",
              "      <td>76.688999</td>\n",
              "      <td>...</td>\n",
              "      <td>1.009977</td>\n",
              "      <td>35.0</td>\n",
              "      <td>1.010248</td>\n",
              "      <td>61.0</td>\n",
              "      <td>1.048624</td>\n",
              "      <td>87.0</td>\n",
              "      <td>1.098313</td>\n",
              "      <td>115.0</td>\n",
              "      <td>1.118089</td>\n",
              "      <td>136.0</td>\n",
              "    </tr>\n",
              "    <tr>\n",
              "      <th>254</th>\n",
              "      <td>77.230003</td>\n",
              "      <td>77.589996</td>\n",
              "      <td>75.360001</td>\n",
              "      <td>76.150002</td>\n",
              "      <td>27399300</td>\n",
              "      <td>31.512057</td>\n",
              "      <td>43.558276</td>\n",
              "      <td>-135.056085</td>\n",
              "      <td>-99.110059</td>\n",
              "      <td>76.611199</td>\n",
              "      <td>...</td>\n",
              "      <td>0.996317</td>\n",
              "      <td>35.0</td>\n",
              "      <td>0.996326</td>\n",
              "      <td>60.0</td>\n",
              "      <td>1.033253</td>\n",
              "      <td>87.0</td>\n",
              "      <td>1.082829</td>\n",
              "      <td>114.0</td>\n",
              "      <td>1.101881</td>\n",
              "      <td>135.0</td>\n",
              "    </tr>\n",
              "    <tr>\n",
              "      <th>...</th>\n",
              "      <td>...</td>\n",
              "      <td>...</td>\n",
              "      <td>...</td>\n",
              "      <td>...</td>\n",
              "      <td>...</td>\n",
              "      <td>...</td>\n",
              "      <td>...</td>\n",
              "      <td>...</td>\n",
              "      <td>...</td>\n",
              "      <td>...</td>\n",
              "      <td>...</td>\n",
              "      <td>...</td>\n",
              "      <td>...</td>\n",
              "      <td>...</td>\n",
              "      <td>...</td>\n",
              "      <td>...</td>\n",
              "      <td>...</td>\n",
              "      <td>...</td>\n",
              "      <td>...</td>\n",
              "      <td>...</td>\n",
              "      <td>...</td>\n",
              "    </tr>\n",
              "    <tr>\n",
              "      <th>2510</th>\n",
              "      <td>352.980011</td>\n",
              "      <td>356.410004</td>\n",
              "      <td>349.209991</td>\n",
              "      <td>354.089996</td>\n",
              "      <td>15289600</td>\n",
              "      <td>77.595238</td>\n",
              "      <td>68.158914</td>\n",
              "      <td>95.125716</td>\n",
              "      <td>138.135513</td>\n",
              "      <td>324.726400</td>\n",
              "      <td>...</td>\n",
              "      <td>1.098404</td>\n",
              "      <td>34.0</td>\n",
              "      <td>1.130040</td>\n",
              "      <td>51.0</td>\n",
              "      <td>1.165536</td>\n",
              "      <td>82.0</td>\n",
              "      <td>1.255815</td>\n",
              "      <td>109.0</td>\n",
              "      <td>1.379524</td>\n",
              "      <td>135.0</td>\n",
              "    </tr>\n",
              "    <tr>\n",
              "      <th>2511</th>\n",
              "      <td>355.579987</td>\n",
              "      <td>357.200012</td>\n",
              "      <td>351.220001</td>\n",
              "      <td>353.390015</td>\n",
              "      <td>11764200</td>\n",
              "      <td>75.599633</td>\n",
              "      <td>67.333880</td>\n",
              "      <td>76.743391</td>\n",
              "      <td>118.091091</td>\n",
              "      <td>325.311000</td>\n",
              "      <td>...</td>\n",
              "      <td>1.093438</td>\n",
              "      <td>33.0</td>\n",
              "      <td>1.126401</td>\n",
              "      <td>51.0</td>\n",
              "      <td>1.160488</td>\n",
              "      <td>82.0</td>\n",
              "      <td>1.249528</td>\n",
              "      <td>109.0</td>\n",
              "      <td>1.371766</td>\n",
              "      <td>134.0</td>\n",
              "    </tr>\n",
              "    <tr>\n",
              "      <th>2512</th>\n",
              "      <td>354.989990</td>\n",
              "      <td>356.980011</td>\n",
              "      <td>353.450012</td>\n",
              "      <td>354.829987</td>\n",
              "      <td>9898600</td>\n",
              "      <td>77.018164</td>\n",
              "      <td>68.186993</td>\n",
              "      <td>77.588047</td>\n",
              "      <td>103.323614</td>\n",
              "      <td>326.113800</td>\n",
              "      <td>...</td>\n",
              "      <td>1.094810</td>\n",
              "      <td>34.0</td>\n",
              "      <td>1.129492</td>\n",
              "      <td>52.0</td>\n",
              "      <td>1.162506</td>\n",
              "      <td>82.0</td>\n",
              "      <td>1.250743</td>\n",
              "      <td>110.0</td>\n",
              "      <td>1.372285</td>\n",
              "      <td>135.0</td>\n",
              "    </tr>\n",
              "    <tr>\n",
              "      <th>2513</th>\n",
              "      <td>356.070007</td>\n",
              "      <td>359.000000</td>\n",
              "      <td>355.309998</td>\n",
              "      <td>357.829987</td>\n",
              "      <td>13207900</td>\n",
              "      <td>79.863540</td>\n",
              "      <td>69.947896</td>\n",
              "      <td>105.699338</td>\n",
              "      <td>100.793824</td>\n",
              "      <td>326.847400</td>\n",
              "      <td>...</td>\n",
              "      <td>1.101177</td>\n",
              "      <td>34.0</td>\n",
              "      <td>1.137336</td>\n",
              "      <td>53.0</td>\n",
              "      <td>1.169497</td>\n",
              "      <td>83.0</td>\n",
              "      <td>1.257396</td>\n",
              "      <td>110.0</td>\n",
              "      <td>1.378721</td>\n",
              "      <td>136.0</td>\n",
              "    </tr>\n",
              "    <tr>\n",
              "      <th>2514</th>\n",
              "      <td>359.700012</td>\n",
              "      <td>361.899994</td>\n",
              "      <td>357.809998</td>\n",
              "      <td>358.320007</td>\n",
              "      <td>11798800</td>\n",
              "      <td>80.327681</td>\n",
              "      <td>70.237681</td>\n",
              "      <td>130.191423</td>\n",
              "      <td>99.110535</td>\n",
              "      <td>327.533800</td>\n",
              "      <td>...</td>\n",
              "      <td>1.099450</td>\n",
              "      <td>35.0</td>\n",
              "      <td>1.137384</td>\n",
              "      <td>53.0</td>\n",
              "      <td>1.168321</td>\n",
              "      <td>83.0</td>\n",
              "      <td>1.255494</td>\n",
              "      <td>110.0</td>\n",
              "      <td>1.375563</td>\n",
              "      <td>136.0</td>\n",
              "    </tr>\n",
              "  </tbody>\n",
              "</table>\n",
              "<p>2265 rows × 34 columns</p>\n",
              "</div>\n",
              "    <div class=\"colab-df-buttons\">\n",
              "\n",
              "  <div class=\"colab-df-container\">\n",
              "    <button class=\"colab-df-convert\" onclick=\"convertToInteractive('df-60838425-7a4c-4326-ae68-af3185af8fdb')\"\n",
              "            title=\"Convert this dataframe to an interactive table.\"\n",
              "            style=\"display:none;\">\n",
              "\n",
              "  <svg xmlns=\"http://www.w3.org/2000/svg\" height=\"24px\" viewBox=\"0 -960 960 960\">\n",
              "    <path d=\"M120-120v-720h720v720H120Zm60-500h600v-160H180v160Zm220 220h160v-160H400v160Zm0 220h160v-160H400v160ZM180-400h160v-160H180v160Zm440 0h160v-160H620v160ZM180-180h160v-160H180v160Zm440 0h160v-160H620v160Z\"/>\n",
              "  </svg>\n",
              "    </button>\n",
              "\n",
              "  <style>\n",
              "    .colab-df-container {\n",
              "      display:flex;\n",
              "      gap: 12px;\n",
              "    }\n",
              "\n",
              "    .colab-df-convert {\n",
              "      background-color: #E8F0FE;\n",
              "      border: none;\n",
              "      border-radius: 50%;\n",
              "      cursor: pointer;\n",
              "      display: none;\n",
              "      fill: #1967D2;\n",
              "      height: 32px;\n",
              "      padding: 0 0 0 0;\n",
              "      width: 32px;\n",
              "    }\n",
              "\n",
              "    .colab-df-convert:hover {\n",
              "      background-color: #E2EBFA;\n",
              "      box-shadow: 0px 1px 2px rgba(60, 64, 67, 0.3), 0px 1px 3px 1px rgba(60, 64, 67, 0.15);\n",
              "      fill: #174EA6;\n",
              "    }\n",
              "\n",
              "    .colab-df-buttons div {\n",
              "      margin-bottom: 4px;\n",
              "    }\n",
              "\n",
              "    [theme=dark] .colab-df-convert {\n",
              "      background-color: #3B4455;\n",
              "      fill: #D2E3FC;\n",
              "    }\n",
              "\n",
              "    [theme=dark] .colab-df-convert:hover {\n",
              "      background-color: #434B5C;\n",
              "      box-shadow: 0px 1px 3px 1px rgba(0, 0, 0, 0.15);\n",
              "      filter: drop-shadow(0px 1px 2px rgba(0, 0, 0, 0.3));\n",
              "      fill: #FFFFFF;\n",
              "    }\n",
              "  </style>\n",
              "\n",
              "    <script>\n",
              "      const buttonEl =\n",
              "        document.querySelector('#df-60838425-7a4c-4326-ae68-af3185af8fdb button.colab-df-convert');\n",
              "      buttonEl.style.display =\n",
              "        google.colab.kernel.accessAllowed ? 'block' : 'none';\n",
              "\n",
              "      async function convertToInteractive(key) {\n",
              "        const element = document.querySelector('#df-60838425-7a4c-4326-ae68-af3185af8fdb');\n",
              "        const dataTable =\n",
              "          await google.colab.kernel.invokeFunction('convertToInteractive',\n",
              "                                                    [key], {});\n",
              "        if (!dataTable) return;\n",
              "\n",
              "        const docLinkHtml = 'Like what you see? Visit the ' +\n",
              "          '<a target=\"_blank\" href=https://colab.research.google.com/notebooks/data_table.ipynb>data table notebook</a>'\n",
              "          + ' to learn more about interactive tables.';\n",
              "        element.innerHTML = '';\n",
              "        dataTable['output_type'] = 'display_data';\n",
              "        await google.colab.output.renderOutput(dataTable, element);\n",
              "        const docLink = document.createElement('div');\n",
              "        docLink.innerHTML = docLinkHtml;\n",
              "        element.appendChild(docLink);\n",
              "      }\n",
              "    </script>\n",
              "  </div>\n",
              "\n",
              "\n",
              "<div id=\"df-c026821e-9dc0-4111-bad4-14b4b2e93cf6\">\n",
              "  <button class=\"colab-df-quickchart\" onclick=\"quickchart('df-c026821e-9dc0-4111-bad4-14b4b2e93cf6')\"\n",
              "            title=\"Suggest charts\"\n",
              "            style=\"display:none;\">\n",
              "\n",
              "<svg xmlns=\"http://www.w3.org/2000/svg\" height=\"24px\"viewBox=\"0 0 24 24\"\n",
              "     width=\"24px\">\n",
              "    <g>\n",
              "        <path d=\"M19 3H5c-1.1 0-2 .9-2 2v14c0 1.1.9 2 2 2h14c1.1 0 2-.9 2-2V5c0-1.1-.9-2-2-2zM9 17H7v-7h2v7zm4 0h-2V7h2v10zm4 0h-2v-4h2v4z\"/>\n",
              "    </g>\n",
              "</svg>\n",
              "  </button>\n",
              "\n",
              "<style>\n",
              "  .colab-df-quickchart {\n",
              "      --bg-color: #E8F0FE;\n",
              "      --fill-color: #1967D2;\n",
              "      --hover-bg-color: #E2EBFA;\n",
              "      --hover-fill-color: #174EA6;\n",
              "      --disabled-fill-color: #AAA;\n",
              "      --disabled-bg-color: #DDD;\n",
              "  }\n",
              "\n",
              "  [theme=dark] .colab-df-quickchart {\n",
              "      --bg-color: #3B4455;\n",
              "      --fill-color: #D2E3FC;\n",
              "      --hover-bg-color: #434B5C;\n",
              "      --hover-fill-color: #FFFFFF;\n",
              "      --disabled-bg-color: #3B4455;\n",
              "      --disabled-fill-color: #666;\n",
              "  }\n",
              "\n",
              "  .colab-df-quickchart {\n",
              "    background-color: var(--bg-color);\n",
              "    border: none;\n",
              "    border-radius: 50%;\n",
              "    cursor: pointer;\n",
              "    display: none;\n",
              "    fill: var(--fill-color);\n",
              "    height: 32px;\n",
              "    padding: 0;\n",
              "    width: 32px;\n",
              "  }\n",
              "\n",
              "  .colab-df-quickchart:hover {\n",
              "    background-color: var(--hover-bg-color);\n",
              "    box-shadow: 0 1px 2px rgba(60, 64, 67, 0.3), 0 1px 3px 1px rgba(60, 64, 67, 0.15);\n",
              "    fill: var(--button-hover-fill-color);\n",
              "  }\n",
              "\n",
              "  .colab-df-quickchart-complete:disabled,\n",
              "  .colab-df-quickchart-complete:disabled:hover {\n",
              "    background-color: var(--disabled-bg-color);\n",
              "    fill: var(--disabled-fill-color);\n",
              "    box-shadow: none;\n",
              "  }\n",
              "\n",
              "  .colab-df-spinner {\n",
              "    border: 2px solid var(--fill-color);\n",
              "    border-color: transparent;\n",
              "    border-bottom-color: var(--fill-color);\n",
              "    animation:\n",
              "      spin 1s steps(1) infinite;\n",
              "  }\n",
              "\n",
              "  @keyframes spin {\n",
              "    0% {\n",
              "      border-color: transparent;\n",
              "      border-bottom-color: var(--fill-color);\n",
              "      border-left-color: var(--fill-color);\n",
              "    }\n",
              "    20% {\n",
              "      border-color: transparent;\n",
              "      border-left-color: var(--fill-color);\n",
              "      border-top-color: var(--fill-color);\n",
              "    }\n",
              "    30% {\n",
              "      border-color: transparent;\n",
              "      border-left-color: var(--fill-color);\n",
              "      border-top-color: var(--fill-color);\n",
              "      border-right-color: var(--fill-color);\n",
              "    }\n",
              "    40% {\n",
              "      border-color: transparent;\n",
              "      border-right-color: var(--fill-color);\n",
              "      border-top-color: var(--fill-color);\n",
              "    }\n",
              "    60% {\n",
              "      border-color: transparent;\n",
              "      border-right-color: var(--fill-color);\n",
              "    }\n",
              "    80% {\n",
              "      border-color: transparent;\n",
              "      border-right-color: var(--fill-color);\n",
              "      border-bottom-color: var(--fill-color);\n",
              "    }\n",
              "    90% {\n",
              "      border-color: transparent;\n",
              "      border-bottom-color: var(--fill-color);\n",
              "    }\n",
              "  }\n",
              "</style>\n",
              "\n",
              "  <script>\n",
              "    async function quickchart(key) {\n",
              "      const quickchartButtonEl =\n",
              "        document.querySelector('#' + key + ' button');\n",
              "      quickchartButtonEl.disabled = true;  // To prevent multiple clicks.\n",
              "      quickchartButtonEl.classList.add('colab-df-spinner');\n",
              "      try {\n",
              "        const charts = await google.colab.kernel.invokeFunction(\n",
              "            'suggestCharts', [key], {});\n",
              "      } catch (error) {\n",
              "        console.error('Error during call to suggestCharts:', error);\n",
              "      }\n",
              "      quickchartButtonEl.classList.remove('colab-df-spinner');\n",
              "      quickchartButtonEl.classList.add('colab-df-quickchart-complete');\n",
              "    }\n",
              "    (() => {\n",
              "      let quickchartButtonEl =\n",
              "        document.querySelector('#df-c026821e-9dc0-4111-bad4-14b4b2e93cf6 button');\n",
              "      quickchartButtonEl.style.display =\n",
              "        google.colab.kernel.accessAllowed ? 'block' : 'none';\n",
              "    })();\n",
              "  </script>\n",
              "</div>\n",
              "    </div>\n",
              "  </div>\n"
            ],
            "text/plain": [
              "            open        high         low       close    volume      rsi_7  \\\n",
              "250    79.849998   80.589996   79.099998   79.220001  14370800  52.190009   \n",
              "251    79.540001   79.800003   77.860001   78.019997  19935400  42.551166   \n",
              "252    78.580002   78.930000   77.699997   78.449997  18177500  46.668833   \n",
              "253    77.980003   79.250000   76.860001   77.190002  26452200  37.484140   \n",
              "254    77.230003   77.589996   75.360001   76.150002  27399300  31.512057   \n",
              "...          ...         ...         ...         ...       ...        ...   \n",
              "2510  352.980011  356.410004  349.209991  354.089996  15289600  77.595238   \n",
              "2511  355.579987  357.200012  351.220001  353.390015  11764200  75.599633   \n",
              "2512  354.989990  356.980011  353.450012  354.829987   9898600  77.018164   \n",
              "2513  356.070007  359.000000  355.309998  357.829987  13207900  79.863540   \n",
              "2514  359.700012  361.899994  357.809998  358.320007  11798800  80.327681   \n",
              "\n",
              "         rsi_14       cci_7      cci_14      sma_50  ...  close_ratio_60  \\\n",
              "250   55.817714  -90.879423   35.196643   76.695999  ...        1.037056   \n",
              "251   50.719762 -159.345309  -11.733628   76.717399  ...        1.021244   \n",
              "252   52.397499 -112.486262  -23.039214   76.712599  ...        1.026389   \n",
              "253   47.314390 -106.403710  -47.529896   76.688999  ...        1.009977   \n",
              "254   43.558276 -135.056085  -99.110059   76.611199  ...        0.996317   \n",
              "...         ...         ...         ...         ...  ...             ...   \n",
              "2510  68.158914   95.125716  138.135513  324.726400  ...        1.098404   \n",
              "2511  67.333880   76.743391  118.091091  325.311000  ...        1.093438   \n",
              "2512  68.186993   77.588047  103.323614  326.113800  ...        1.094810   \n",
              "2513  69.947896  105.699338  100.793824  326.847400  ...        1.101177   \n",
              "2514  70.237681  130.191423   99.110535  327.533800  ...        1.099450   \n",
              "\n",
              "      trend_60  close_ratio_100  trend_100  close_ratio_150  trend_150  \\\n",
              "250       36.0         1.038764       61.0         1.080453       87.0   \n",
              "251       35.0         1.022364       61.0         1.062716       86.0   \n",
              "252       36.0         1.027325       61.0         1.067105       87.0   \n",
              "253       35.0         1.010248       61.0         1.048624       87.0   \n",
              "254       35.0         0.996326       60.0         1.033253       87.0   \n",
              "...        ...              ...        ...              ...        ...   \n",
              "2510      34.0         1.130040       51.0         1.165536       82.0   \n",
              "2511      33.0         1.126401       51.0         1.160488       82.0   \n",
              "2512      34.0         1.129492       52.0         1.162506       82.0   \n",
              "2513      34.0         1.137336       53.0         1.169497       83.0   \n",
              "2514      35.0         1.137384       53.0         1.168321       83.0   \n",
              "\n",
              "      close_ratio_200  trend_200  close_ratio_250  trend_250  \n",
              "250          1.129549      115.0         1.151763      137.0  \n",
              "251          1.111739      114.0         1.132771      137.0  \n",
              "252          1.117054      115.0         1.137610      137.0  \n",
              "253          1.098313      115.0         1.118089      136.0  \n",
              "254          1.082829      114.0         1.101881      135.0  \n",
              "...               ...        ...              ...        ...  \n",
              "2510         1.255815      109.0         1.379524      135.0  \n",
              "2511         1.249528      109.0         1.371766      134.0  \n",
              "2512         1.250743      110.0         1.372285      135.0  \n",
              "2513         1.257396      110.0         1.378721      136.0  \n",
              "2514         1.255494      110.0         1.375563      136.0  \n",
              "\n",
              "[2265 rows x 34 columns]"
            ]
          },
          "execution_count": 25,
          "metadata": {},
          "output_type": "execute_result"
        }
      ],
      "source": [
        "meta"
      ]
    },
    {
      "cell_type": "code",
      "execution_count": null,
      "id": "facd7d81",
      "metadata": {
        "id": "facd7d81"
      },
      "outputs": [],
      "source": [
        "model = RandomForestClassifier(n_estimators=250, min_samples_split=50, random_state=1)"
      ]
    },
    {
      "cell_type": "code",
      "execution_count": null,
      "id": "d8c263b9",
      "metadata": {
        "id": "d8c263b9"
      },
      "outputs": [],
      "source": [
        "def predict(train, test, predictors, model):\n",
        "    model.fit(train[predictors], train[\"target\"])\n",
        "    preds = model.predict_proba(test[predictors])[:,1]\n",
        "    preds[preds >= .6] = 1\n",
        "    preds[preds < .6] = 0\n",
        "    preds = pd.Series(preds, index=test.index, name=\"predictions\")\n",
        "    combined = pd.concat([test[\"target\"], preds], axis=1)\n",
        "    return combined"
      ]
    },
    {
      "cell_type": "code",
      "execution_count": null,
      "id": "83bf85e8",
      "metadata": {
        "id": "83bf85e8"
      },
      "outputs": [],
      "source": [
        "predictions = backtest(meta, model, new_predictors)"
      ]
    },
    {
      "cell_type": "code",
      "execution_count": null,
      "id": "11570361",
      "metadata": {
        "colab": {
          "base_uri": "https://localhost:8080/"
        },
        "id": "11570361",
        "outputId": "6f79a96e-7115-4d3c-ef8b-c6451c343f3b"
      },
      "outputs": [
        {
          "data": {
            "text/plain": [
              "0.0    1419\n",
              "1.0     596\n",
              "Name: predictions, dtype: int64"
            ]
          },
          "execution_count": 29,
          "metadata": {},
          "output_type": "execute_result"
        }
      ],
      "source": [
        "predictions[\"predictions\"].value_counts()"
      ]
    },
    {
      "cell_type": "code",
      "execution_count": null,
      "id": "9c08ff78",
      "metadata": {
        "colab": {
          "base_uri": "https://localhost:8080/"
        },
        "id": "9c08ff78",
        "outputId": "c1182850-c2a7-4e3e-ed82-110b5734c49b"
      },
      "outputs": [
        {
          "data": {
            "text/plain": [
              "0.5385906040268457"
            ]
          },
          "execution_count": 30,
          "metadata": {},
          "output_type": "execute_result"
        }
      ],
      "source": [
        "precision_score(predictions[\"target\"], predictions[\"predictions\"])"
      ]
    },
    {
      "cell_type": "markdown",
      "id": "yqnmavAf2E41",
      "metadata": {
        "id": "yqnmavAf2E41"
      },
      "source": [
        "#### This was a decent improvement over the backtest model and beats the randomly guessing model. However, the simplest model we created at the beginning is still the most accurate. Let's create a more complex model using hyperparameters and neurons to find a model that can consistently beat our random guessing model."
      ]
    },
    {
      "cell_type": "markdown",
      "id": "d62d0499",
      "metadata": {
        "id": "d62d0499"
      },
      "source": [
        "# Complex Model"
      ]
    },
    {
      "cell_type": "markdown",
      "id": "6NNiMYBi29j6",
      "metadata": {
        "id": "6NNiMYBi29j6"
      },
      "source": [
        "#### First, let's drop the unnecessary columns. Then, let's split the data and create a sequential model. We'll just use some basic activation functions and dense layers to get a starting point."
      ]
    },
    {
      "cell_type": "code",
      "execution_count": null,
      "id": "27d96725",
      "metadata": {
        "colab": {
          "base_uri": "https://localhost:8080/"
        },
        "id": "27d96725",
        "outputId": "b90928cc-3a86-4659-ccf9-7dc744654d60"
      },
      "outputs": [
        {
          "name": "stderr",
          "output_type": "stream",
          "text": [
            "<ipython-input-31-3a2979080b5e>:2: SettingWithCopyWarning: \n",
            "A value is trying to be set on a copy of a slice from a DataFrame\n",
            "\n",
            "See the caveats in the documentation: https://pandas.pydata.org/pandas-docs/stable/user_guide/indexing.html#returning-a-view-versus-a-copy\n",
            "  meta.drop(columns=columns_to_drop, inplace=True)\n"
          ]
        }
      ],
      "source": [
        "columns_to_drop = ['tomorrow','rsi_7', 'rsi_14', 'cci_7', 'cci_14', 'sma_50', 'ema_50', 'sma_100', 'ema_100', 'macd', 'bollinger', 'TrueRange', 'atr_7', 'atr_14']\n",
        "meta.drop(columns=columns_to_drop, inplace=True)"
      ]
    },
    {
      "cell_type": "code",
      "execution_count": null,
      "id": "9cce04cb",
      "metadata": {
        "id": "9cce04cb"
      },
      "outputs": [],
      "source": [
        "X = meta.drop(columns=['target'])\n",
        "y = meta['target']"
      ]
    },
    {
      "cell_type": "code",
      "execution_count": null,
      "id": "75ccbff2",
      "metadata": {
        "id": "75ccbff2"
      },
      "outputs": [],
      "source": [
        "X_train, X_test, y_train, y_test = train_test_split(X, y, test_size=0.2, random_state=42)"
      ]
    },
    {
      "cell_type": "code",
      "execution_count": null,
      "id": "c91cbd8e",
      "metadata": {
        "id": "c91cbd8e"
      },
      "outputs": [],
      "source": [
        "scaler = StandardScaler()\n",
        "X_train_scaled = scaler.fit_transform(X_train)\n",
        "X_test_scaled = scaler.transform(X_test)"
      ]
    },
    {
      "cell_type": "code",
      "execution_count": null,
      "id": "8f19ea52",
      "metadata": {
        "colab": {
          "base_uri": "https://localhost:8080/"
        },
        "id": "8f19ea52",
        "outputId": "2cec0379-f883-4f9f-e2b6-5daa57c16153"
      },
      "outputs": [
        {
          "name": "stderr",
          "output_type": "stream",
          "text": [
            "/usr/local/lib/python3.10/dist-packages/keras/src/layers/core/dense.py:85: UserWarning: Do not pass an `input_shape`/`input_dim` argument to a layer. When using Sequential models, prefer using an `Input(shape)` object as the first layer in the model instead.\n",
            "  super().__init__(activity_regularizer=activity_regularizer, **kwargs)\n"
          ]
        }
      ],
      "source": [
        "from tensorflow.keras.models import Sequential\n",
        "from tensorflow.keras.layers import Dense, Dropout\n",
        "model = Sequential([\n",
        "    Dense(64, activation='relu', input_shape=(X_train_scaled.shape[1],)),\n",
        "    Dropout(0.2),\n",
        "    Dense(32, activation='relu'),\n",
        "    Dropout(0.2),\n",
        "    Dense(1, activation='sigmoid')\n",
        "])"
      ]
    },
    {
      "cell_type": "code",
      "execution_count": null,
      "id": "286926df",
      "metadata": {
        "id": "286926df"
      },
      "outputs": [],
      "source": [
        "model.compile(optimizer='adam', loss='binary_crossentropy', metrics=['accuracy'])"
      ]
    },
    {
      "cell_type": "code",
      "execution_count": null,
      "id": "cd6539e5",
      "metadata": {
        "colab": {
          "base_uri": "https://localhost:8080/"
        },
        "id": "cd6539e5",
        "outputId": "e4ba92c4-f287-4415-9cce-7b56464e7cf0"
      },
      "outputs": [
        {
          "name": "stdout",
          "output_type": "stream",
          "text": [
            "Epoch 1/20\n",
            "\u001b[1m46/46\u001b[0m \u001b[32m━━━━━━━━━━━━━━━━━━━━\u001b[0m\u001b[37m\u001b[0m \u001b[1m1s\u001b[0m 4ms/step - accuracy: 0.4865 - loss: 0.7543 - val_accuracy: 0.4793 - val_loss: 0.7018\n",
            "Epoch 2/20\n",
            "\u001b[1m46/46\u001b[0m \u001b[32m━━━━━━━━━━━━━━━━━━━━\u001b[0m\u001b[37m\u001b[0m \u001b[1m0s\u001b[0m 2ms/step - accuracy: 0.5364 - loss: 0.6992 - val_accuracy: 0.4821 - val_loss: 0.7064\n",
            "Epoch 3/20\n",
            "\u001b[1m46/46\u001b[0m \u001b[32m━━━━━━━━━━━━━━━━━━━━\u001b[0m\u001b[37m\u001b[0m \u001b[1m0s\u001b[0m 2ms/step - accuracy: 0.5386 - loss: 0.6928 - val_accuracy: 0.5096 - val_loss: 0.6969\n",
            "Epoch 4/20\n",
            "\u001b[1m46/46\u001b[0m \u001b[32m━━━━━━━━━━━━━━━━━━━━\u001b[0m\u001b[37m\u001b[0m \u001b[1m0s\u001b[0m 2ms/step - accuracy: 0.5425 - loss: 0.6938 - val_accuracy: 0.5096 - val_loss: 0.6960\n",
            "Epoch 5/20\n",
            "\u001b[1m46/46\u001b[0m \u001b[32m━━━━━━━━━━━━━━━━━━━━\u001b[0m\u001b[37m\u001b[0m \u001b[1m0s\u001b[0m 2ms/step - accuracy: 0.5146 - loss: 0.6962 - val_accuracy: 0.5096 - val_loss: 0.6994\n",
            "Epoch 6/20\n",
            "\u001b[1m46/46\u001b[0m \u001b[32m━━━━━━━━━━━━━━━━━━━━\u001b[0m\u001b[37m\u001b[0m \u001b[1m0s\u001b[0m 2ms/step - accuracy: 0.5573 - loss: 0.6838 - val_accuracy: 0.5207 - val_loss: 0.6966\n",
            "Epoch 7/20\n",
            "\u001b[1m46/46\u001b[0m \u001b[32m━━━━━━━━━━━━━━━━━━━━\u001b[0m\u001b[37m\u001b[0m \u001b[1m0s\u001b[0m 2ms/step - accuracy: 0.5511 - loss: 0.6834 - val_accuracy: 0.5041 - val_loss: 0.6968\n",
            "Epoch 8/20\n",
            "\u001b[1m46/46\u001b[0m \u001b[32m━━━━━━━━━━━━━━━━━━━━\u001b[0m\u001b[37m\u001b[0m \u001b[1m0s\u001b[0m 2ms/step - accuracy: 0.5507 - loss: 0.6833 - val_accuracy: 0.5014 - val_loss: 0.7000\n",
            "Epoch 9/20\n",
            "\u001b[1m46/46\u001b[0m \u001b[32m━━━━━━━━━━━━━━━━━━━━\u001b[0m\u001b[37m\u001b[0m \u001b[1m0s\u001b[0m 2ms/step - accuracy: 0.5709 - loss: 0.6792 - val_accuracy: 0.5041 - val_loss: 0.6981\n",
            "Epoch 10/20\n",
            "\u001b[1m46/46\u001b[0m \u001b[32m━━━━━━━━━━━━━━━━━━━━\u001b[0m\u001b[37m\u001b[0m \u001b[1m0s\u001b[0m 2ms/step - accuracy: 0.5490 - loss: 0.6814 - val_accuracy: 0.4848 - val_loss: 0.6981\n",
            "Epoch 11/20\n",
            "\u001b[1m46/46\u001b[0m \u001b[32m━━━━━━━━━━━━━━━━━━━━\u001b[0m\u001b[37m\u001b[0m \u001b[1m0s\u001b[0m 2ms/step - accuracy: 0.5741 - loss: 0.6768 - val_accuracy: 0.5152 - val_loss: 0.6972\n",
            "Epoch 12/20\n",
            "\u001b[1m46/46\u001b[0m \u001b[32m━━━━━━━━━━━━━━━━━━━━\u001b[0m\u001b[37m\u001b[0m \u001b[1m0s\u001b[0m 2ms/step - accuracy: 0.5371 - loss: 0.6831 - val_accuracy: 0.4766 - val_loss: 0.7018\n",
            "Epoch 13/20\n",
            "\u001b[1m46/46\u001b[0m \u001b[32m━━━━━━━━━━━━━━━━━━━━\u001b[0m\u001b[37m\u001b[0m \u001b[1m0s\u001b[0m 2ms/step - accuracy: 0.5723 - loss: 0.6810 - val_accuracy: 0.5014 - val_loss: 0.7025\n",
            "Epoch 14/20\n",
            "\u001b[1m46/46\u001b[0m \u001b[32m━━━━━━━━━━━━━━━━━━━━\u001b[0m\u001b[37m\u001b[0m \u001b[1m0s\u001b[0m 2ms/step - accuracy: 0.5744 - loss: 0.6727 - val_accuracy: 0.4738 - val_loss: 0.6987\n",
            "Epoch 15/20\n",
            "\u001b[1m46/46\u001b[0m \u001b[32m━━━━━━━━━━━━━━━━━━━━\u001b[0m\u001b[37m\u001b[0m \u001b[1m0s\u001b[0m 2ms/step - accuracy: 0.5797 - loss: 0.6742 - val_accuracy: 0.4711 - val_loss: 0.7046\n",
            "Epoch 16/20\n",
            "\u001b[1m46/46\u001b[0m \u001b[32m━━━━━━━━━━━━━━━━━━━━\u001b[0m\u001b[37m\u001b[0m \u001b[1m0s\u001b[0m 2ms/step - accuracy: 0.5696 - loss: 0.6772 - val_accuracy: 0.4876 - val_loss: 0.7028\n",
            "Epoch 17/20\n",
            "\u001b[1m46/46\u001b[0m \u001b[32m━━━━━━━━━━━━━━━━━━━━\u001b[0m\u001b[37m\u001b[0m \u001b[1m0s\u001b[0m 2ms/step - accuracy: 0.5922 - loss: 0.6661 - val_accuracy: 0.4821 - val_loss: 0.7034\n",
            "Epoch 18/20\n",
            "\u001b[1m46/46\u001b[0m \u001b[32m━━━━━━━━━━━━━━━━━━━━\u001b[0m\u001b[37m\u001b[0m \u001b[1m0s\u001b[0m 2ms/step - accuracy: 0.5853 - loss: 0.6674 - val_accuracy: 0.4931 - val_loss: 0.6999\n",
            "Epoch 19/20\n",
            "\u001b[1m46/46\u001b[0m \u001b[32m━━━━━━━━━━━━━━━━━━━━\u001b[0m\u001b[37m\u001b[0m \u001b[1m0s\u001b[0m 2ms/step - accuracy: 0.5820 - loss: 0.6708 - val_accuracy: 0.4821 - val_loss: 0.7055\n",
            "Epoch 20/20\n",
            "\u001b[1m46/46\u001b[0m \u001b[32m━━━━━━━━━━━━━━━━━━━━\u001b[0m\u001b[37m\u001b[0m \u001b[1m0s\u001b[0m 2ms/step - accuracy: 0.5759 - loss: 0.6613 - val_accuracy: 0.4931 - val_loss: 0.7041\n"
          ]
        }
      ],
      "source": [
        "history = model.fit(X_train_scaled, y_train, epochs=20, batch_size=32, validation_split=0.2)"
      ]
    },
    {
      "cell_type": "code",
      "execution_count": null,
      "id": "d38e35c1",
      "metadata": {
        "colab": {
          "base_uri": "https://localhost:8080/"
        },
        "id": "d38e35c1",
        "outputId": "d69de4af-588e-40c6-8b2c-0d738e95e5a7"
      },
      "outputs": [
        {
          "name": "stdout",
          "output_type": "stream",
          "text": [
            "\u001b[1m15/15\u001b[0m \u001b[32m━━━━━━━━━━━━━━━━━━━━\u001b[0m\u001b[37m\u001b[0m \u001b[1m0s\u001b[0m 997us/step - accuracy: 0.5172 - loss: 0.6979\n",
            "Test Accuracy: 0.5011037588119507\n"
          ]
        }
      ],
      "source": [
        "test_loss, test_acc = model.evaluate(X_test_scaled, y_test)\n",
        "print(f'Test Accuracy: {test_acc}')"
      ]
    },
    {
      "cell_type": "code",
      "execution_count": null,
      "id": "1aa0e010",
      "metadata": {
        "colab": {
          "base_uri": "https://localhost:8080/"
        },
        "id": "1aa0e010",
        "outputId": "f92339d0-83f0-48d1-9be7-ffbfe518717a"
      },
      "outputs": [
        {
          "name": "stdout",
          "output_type": "stream",
          "text": [
            "\u001b[1m15/15\u001b[0m \u001b[32m━━━━━━━━━━━━━━━━━━━━\u001b[0m\u001b[37m\u001b[0m \u001b[1m0s\u001b[0m 2ms/step \n"
          ]
        }
      ],
      "source": [
        "predictions = model.predict(X_test_scaled)"
      ]
    },
    {
      "cell_type": "markdown",
      "id": "CSbjo7-K3SdF",
      "metadata": {
        "id": "CSbjo7-K3SdF"
      },
      "source": [
        "#### The test accuracy is just over 50% accurate. This is worse than just playing the odds, so let's try to find better hyperparameters. We'll add some hyperparameter options for keras to choose depending on which ones do the best."
      ]
    },
    {
      "cell_type": "code",
      "execution_count": null,
      "id": "e7f08832",
      "metadata": {
        "id": "e7f08832"
      },
      "outputs": [],
      "source": [
        "import keras_tuner as kt\n",
        "\n",
        "def build_model(hp):\n",
        "    model = Sequential([\n",
        "        Dense(units=hp.Int('units', min_value=32, max_value=512, step=32),\n",
        "              activation='relu',\n",
        "              input_shape=(X_train_scaled.shape[1],)),\n",
        "        Dropout(rate=hp.Float('dropout', min_value=0.2, max_value=0.5, step=0.1)),\n",
        "        Dense(1, activation='sigmoid')\n",
        "    ])\n",
        "    model.compile(optimizer=hp.Choice('optimizer', ['adam', 'rmsprop', 'sgd']),\n",
        "                  loss='binary_crossentropy',\n",
        "                  metrics=['accuracy'])\n",
        "    return model"
      ]
    },
    {
      "cell_type": "code",
      "execution_count": null,
      "id": "76380f9d",
      "metadata": {
        "id": "76380f9d"
      },
      "outputs": [],
      "source": [
        "tuner = kt.Hyperband(build_model,\n",
        "                     objective='val_accuracy',\n",
        "                     max_epochs=20,\n",
        "                     factor=3,\n",
        "                     directory='my_dir',\n",
        "                     project_name='stock_prediction',\n",
        "                     overwrite=True)"
      ]
    },
    {
      "cell_type": "code",
      "execution_count": null,
      "id": "e12cfcb3",
      "metadata": {
        "colab": {
          "base_uri": "https://localhost:8080/"
        },
        "id": "e12cfcb3",
        "outputId": "5c7a9981-39b2-453f-d832-cd55c3f35f42"
      },
      "outputs": [
        {
          "name": "stdout",
          "output_type": "stream",
          "text": [
            "Trial 30 Complete [00h 00m 04s]\n",
            "val_accuracy: 0.5320088267326355\n",
            "\n",
            "Best val_accuracy So Far: 0.567328929901123\n",
            "Total elapsed time: 00h 01m 10s\n"
          ]
        }
      ],
      "source": [
        "tuner.search(X_train_scaled, y_train, epochs=20, validation_data=(X_test_scaled, y_test))"
      ]
    },
    {
      "cell_type": "code",
      "execution_count": null,
      "id": "45625720",
      "metadata": {
        "id": "45625720"
      },
      "outputs": [],
      "source": [
        "best_hps = tuner.get_best_hyperparameters(num_trials=1)[0]"
      ]
    },
    {
      "cell_type": "code",
      "execution_count": null,
      "id": "bac78779",
      "metadata": {
        "colab": {
          "base_uri": "https://localhost:8080/"
        },
        "id": "bac78779",
        "outputId": "70b31e09-0446-4f35-c662-8f91889ab010"
      },
      "outputs": [
        {
          "name": "stdout",
          "output_type": "stream",
          "text": [
            "Optimal Hyperparameters: <keras_tuner.src.engine.hyperparameters.hyperparameters.HyperParameters object at 0x7fa33ff25330>\n"
          ]
        }
      ],
      "source": [
        "print(f\"Optimal Hyperparameters: {best_hps}\")"
      ]
    },
    {
      "cell_type": "code",
      "execution_count": null,
      "id": "2f5a07b4",
      "metadata": {
        "colab": {
          "base_uri": "https://localhost:8080/"
        },
        "id": "2f5a07b4",
        "outputId": "49fe86c3-6a43-4acc-9719-13492800f0fa"
      },
      "outputs": [
        {
          "name": "stdout",
          "output_type": "stream",
          "text": [
            "Optimal Hyperparameters:\n",
            "Units: 288\n",
            "Dropout: 0.4\n",
            "Optimizer: rmsprop\n"
          ]
        }
      ],
      "source": [
        "print(\"Optimal Hyperparameters:\")\n",
        "print(f\"Units: {best_hps.get('units')}\")\n",
        "print(f\"Dropout: {best_hps.get('dropout')}\")\n",
        "print(f\"Optimizer: {best_hps.get('optimizer')}\")"
      ]
    },
    {
      "cell_type": "code",
      "execution_count": null,
      "id": "IfsJiT4hx_sl",
      "metadata": {
        "id": "IfsJiT4hx_sl"
      },
      "outputs": [],
      "source": [
        "final_model = build_model(best_hps)"
      ]
    },
    {
      "cell_type": "code",
      "execution_count": null,
      "id": "y-dn-jOsyCCg",
      "metadata": {
        "colab": {
          "base_uri": "https://localhost:8080/"
        },
        "id": "y-dn-jOsyCCg",
        "outputId": "2a93fc30-8175-4040-b820-3d663b28bc61"
      },
      "outputs": [
        {
          "name": "stdout",
          "output_type": "stream",
          "text": [
            "Epoch 1/20\n",
            "\u001b[1m57/57\u001b[0m \u001b[32m━━━━━━━━━━━━━━━━━━━━\u001b[0m\u001b[37m\u001b[0m \u001b[1m1s\u001b[0m 4ms/step - accuracy: 0.5128 - loss: 0.7103 - val_accuracy: 0.5188 - val_loss: 0.6998\n",
            "Epoch 2/20\n",
            "\u001b[1m57/57\u001b[0m \u001b[32m━━━━━━━━━━━━━━━━━━━━\u001b[0m\u001b[37m\u001b[0m \u001b[1m0s\u001b[0m 2ms/step - accuracy: 0.5279 - loss: 0.7008 - val_accuracy: 0.5364 - val_loss: 0.7063\n",
            "Epoch 3/20\n",
            "\u001b[1m57/57\u001b[0m \u001b[32m━━━━━━━━━━━━━━━━━━━━\u001b[0m\u001b[37m\u001b[0m \u001b[1m0s\u001b[0m 2ms/step - accuracy: 0.5437 - loss: 0.6842 - val_accuracy: 0.5011 - val_loss: 0.7043\n",
            "Epoch 4/20\n",
            "\u001b[1m57/57\u001b[0m \u001b[32m━━━━━━━━━━━━━━━━━━━━\u001b[0m\u001b[37m\u001b[0m \u001b[1m0s\u001b[0m 2ms/step - accuracy: 0.5441 - loss: 0.6946 - val_accuracy: 0.5166 - val_loss: 0.7068\n",
            "Epoch 5/20\n",
            "\u001b[1m57/57\u001b[0m \u001b[32m━━━━━━━━━━━━━━━━━━━━\u001b[0m\u001b[37m\u001b[0m \u001b[1m0s\u001b[0m 2ms/step - accuracy: 0.5592 - loss: 0.6802 - val_accuracy: 0.5077 - val_loss: 0.7159\n",
            "Epoch 6/20\n",
            "\u001b[1m57/57\u001b[0m \u001b[32m━━━━━━━━━━━━━━━━━━━━\u001b[0m\u001b[37m\u001b[0m \u001b[1m0s\u001b[0m 2ms/step - accuracy: 0.5590 - loss: 0.6896 - val_accuracy: 0.5188 - val_loss: 0.7011\n",
            "Epoch 7/20\n",
            "\u001b[1m57/57\u001b[0m \u001b[32m━━━━━━━━━━━━━━━━━━━━\u001b[0m\u001b[37m\u001b[0m \u001b[1m0s\u001b[0m 2ms/step - accuracy: 0.5659 - loss: 0.6774 - val_accuracy: 0.5055 - val_loss: 0.7088\n",
            "Epoch 8/20\n",
            "\u001b[1m57/57\u001b[0m \u001b[32m━━━━━━━━━━━━━━━━━━━━\u001b[0m\u001b[37m\u001b[0m \u001b[1m0s\u001b[0m 2ms/step - accuracy: 0.5588 - loss: 0.6871 - val_accuracy: 0.5121 - val_loss: 0.7023\n",
            "Epoch 9/20\n",
            "\u001b[1m57/57\u001b[0m \u001b[32m━━━━━━━━━━━━━━━━━━━━\u001b[0m\u001b[37m\u001b[0m \u001b[1m0s\u001b[0m 2ms/step - accuracy: 0.5698 - loss: 0.6820 - val_accuracy: 0.5254 - val_loss: 0.7045\n",
            "Epoch 10/20\n",
            "\u001b[1m57/57\u001b[0m \u001b[32m━━━━━━━━━━━━━━━━━━━━\u001b[0m\u001b[37m\u001b[0m \u001b[1m0s\u001b[0m 2ms/step - accuracy: 0.5529 - loss: 0.6755 - val_accuracy: 0.5166 - val_loss: 0.7008\n",
            "Epoch 11/20\n",
            "\u001b[1m57/57\u001b[0m \u001b[32m━━━━━━━━━━━━━━━━━━━━\u001b[0m\u001b[37m\u001b[0m \u001b[1m0s\u001b[0m 2ms/step - accuracy: 0.5596 - loss: 0.6795 - val_accuracy: 0.4923 - val_loss: 0.7134\n",
            "Epoch 12/20\n",
            "\u001b[1m57/57\u001b[0m \u001b[32m━━━━━━━━━━━━━━━━━━━━\u001b[0m\u001b[37m\u001b[0m \u001b[1m0s\u001b[0m 2ms/step - accuracy: 0.5605 - loss: 0.6846 - val_accuracy: 0.4967 - val_loss: 0.7176\n",
            "Epoch 13/20\n",
            "\u001b[1m57/57\u001b[0m \u001b[32m━━━━━━━━━━━━━━━━━━━━\u001b[0m\u001b[37m\u001b[0m \u001b[1m0s\u001b[0m 2ms/step - accuracy: 0.5780 - loss: 0.6721 - val_accuracy: 0.5232 - val_loss: 0.7032\n",
            "Epoch 14/20\n",
            "\u001b[1m57/57\u001b[0m \u001b[32m━━━━━━━━━━━━━━━━━━━━\u001b[0m\u001b[37m\u001b[0m \u001b[1m0s\u001b[0m 3ms/step - accuracy: 0.5893 - loss: 0.6744 - val_accuracy: 0.4879 - val_loss: 0.7110\n",
            "Epoch 15/20\n",
            "\u001b[1m57/57\u001b[0m \u001b[32m━━━━━━━━━━━━━━━━━━━━\u001b[0m\u001b[37m\u001b[0m \u001b[1m0s\u001b[0m 3ms/step - accuracy: 0.5488 - loss: 0.6839 - val_accuracy: 0.4857 - val_loss: 0.7100\n",
            "Epoch 16/20\n",
            "\u001b[1m57/57\u001b[0m \u001b[32m━━━━━━━━━━━━━━━━━━━━\u001b[0m\u001b[37m\u001b[0m \u001b[1m0s\u001b[0m 2ms/step - accuracy: 0.5826 - loss: 0.6731 - val_accuracy: 0.4857 - val_loss: 0.7067\n",
            "Epoch 17/20\n",
            "\u001b[1m57/57\u001b[0m \u001b[32m━━━━━━━━━━━━━━━━━━━━\u001b[0m\u001b[37m\u001b[0m \u001b[1m0s\u001b[0m 3ms/step - accuracy: 0.5949 - loss: 0.6748 - val_accuracy: 0.5011 - val_loss: 0.7036\n",
            "Epoch 18/20\n",
            "\u001b[1m57/57\u001b[0m \u001b[32m━━━━━━━━━━━━━━━━━━━━\u001b[0m\u001b[37m\u001b[0m \u001b[1m0s\u001b[0m 3ms/step - accuracy: 0.5873 - loss: 0.6713 - val_accuracy: 0.5099 - val_loss: 0.7087\n",
            "Epoch 19/20\n",
            "\u001b[1m57/57\u001b[0m \u001b[32m━━━━━━━━━━━━━━━━━━━━\u001b[0m\u001b[37m\u001b[0m \u001b[1m0s\u001b[0m 3ms/step - accuracy: 0.5832 - loss: 0.6787 - val_accuracy: 0.5298 - val_loss: 0.7051\n",
            "Epoch 20/20\n",
            "\u001b[1m57/57\u001b[0m \u001b[32m━━━━━━━━━━━━━━━━━━━━\u001b[0m\u001b[37m\u001b[0m \u001b[1m0s\u001b[0m 3ms/step - accuracy: 0.5998 - loss: 0.6684 - val_accuracy: 0.5055 - val_loss: 0.7089\n"
          ]
        }
      ],
      "source": [
        "history = final_model.fit(X_train_scaled, y_train, epochs=20, validation_data=(X_test_scaled, y_test))"
      ]
    },
    {
      "cell_type": "code",
      "execution_count": null,
      "id": "2_qiFE7OyHKx",
      "metadata": {
        "colab": {
          "base_uri": "https://localhost:8080/"
        },
        "id": "2_qiFE7OyHKx",
        "outputId": "66158122-00c5-4519-82e6-a366a1f62d22"
      },
      "outputs": [
        {
          "name": "stdout",
          "output_type": "stream",
          "text": [
            "\u001b[1m15/15\u001b[0m \u001b[32m━━━━━━━━━━━━━━━━━━━━\u001b[0m\u001b[37m\u001b[0m \u001b[1m0s\u001b[0m 2ms/step - accuracy: 0.5147 - loss: 0.7052 \n"
          ]
        }
      ],
      "source": [
        "test_loss, test_accuracy = final_model.evaluate(X_test_scaled, y_test)"
      ]
    },
    {
      "cell_type": "code",
      "execution_count": null,
      "id": "fixnQf3_yJ_R",
      "metadata": {
        "colab": {
          "base_uri": "https://localhost:8080/"
        },
        "id": "fixnQf3_yJ_R",
        "outputId": "e6a68c73-2391-4d75-99ac-6ff7ae519d3e"
      },
      "outputs": [
        {
          "name": "stdout",
          "output_type": "stream",
          "text": [
            "Test Accuracy: 0.5055187344551086\n"
          ]
        }
      ],
      "source": [
        "print(\"Test Accuracy:\", test_accuracy)"
      ]
    },
    {
      "cell_type": "code",
      "execution_count": null,
      "id": "ZvG3xqn8yj88",
      "metadata": {
        "id": "ZvG3xqn8yj88"
      },
      "outputs": [],
      "source": [
        "from sklearn.metrics import precision_score, recall_score"
      ]
    },
    {
      "cell_type": "code",
      "execution_count": null,
      "id": "JMJKj9c7yper",
      "metadata": {
        "colab": {
          "base_uri": "https://localhost:8080/"
        },
        "id": "JMJKj9c7yper",
        "outputId": "07ed3f71-bd08-4838-fee9-b1e6ecac89ae"
      },
      "outputs": [
        {
          "name": "stdout",
          "output_type": "stream",
          "text": [
            "\u001b[1m15/15\u001b[0m \u001b[32m━━━━━━━━━━━━━━━━━━━━\u001b[0m\u001b[37m\u001b[0m \u001b[1m0s\u001b[0m 3ms/step \n"
          ]
        }
      ],
      "source": [
        "y_pred = final_model.predict(X_test_scaled) >= 0.6"
      ]
    },
    {
      "cell_type": "code",
      "execution_count": null,
      "id": "r8sVTx5YyspP",
      "metadata": {
        "id": "r8sVTx5YyspP"
      },
      "outputs": [],
      "source": [
        "precision = precision_score(y_test, y_pred)\n",
        "recall = recall_score(y_test, y_pred)"
      ]
    },
    {
      "cell_type": "code",
      "execution_count": null,
      "id": "2b77nU3syvx7",
      "metadata": {
        "colab": {
          "base_uri": "https://localhost:8080/"
        },
        "id": "2b77nU3syvx7",
        "outputId": "5805f214-b4fe-46ce-fcee-b47614e5db43"
      },
      "outputs": [
        {
          "name": "stdout",
          "output_type": "stream",
          "text": [
            "Precision (Buying Stock): 0.4942528735632184\n",
            "Recall (Buying Stock): 0.18777292576419213\n"
          ]
        }
      ],
      "source": [
        "print(\"Precision (Buying Stock):\", precision)\n",
        "print(\"Recall (Buying Stock):\", recall)"
      ]
    },
    {
      "cell_type": "markdown",
      "id": "hQDmvmeP3pAB",
      "metadata": {
        "id": "hQDmvmeP3pAB"
      },
      "source": [
        "#### We determined the best hyperparameters for accuracy, but the precision is very low. Let's try to create a model that focuses on precision. That might be the best thing to focus on since we are fine with missing days that we should have bought stock but we want to be confident that the days we bought stock will turn out positive."
      ]
    },
    {
      "cell_type": "markdown",
      "id": "MFHlotNV5ByY",
      "metadata": {
        "id": "MFHlotNV5ByY"
      },
      "source": [
        "# Best Model"
      ]
    },
    {
      "cell_type": "markdown",
      "id": "qiB6Ex4h45Aw",
      "metadata": {
        "id": "qiB6Ex4h45Aw"
      },
      "source": [
        "#### This model will test a ton of hyperparameters and will determine the best model based on precision."
      ]
    },
    {
      "cell_type": "code",
      "execution_count": null,
      "id": "kqWJOvUF1VPL",
      "metadata": {
        "id": "kqWJOvUF1VPL"
      },
      "outputs": [],
      "source": [
        "X_train, X_test, y_train, y_test = train_test_split(X, y, test_size=0.2, random_state=42)\n",
        "\n",
        "def build_model(hp):\n",
        "    model = Sequential()\n",
        "\n",
        "    # Define the number of units in the dense layer\n",
        "    model.add(Dense(units=hp.Int('units', min_value=32, max_value=512, step=32),\n",
        "                    activation='relu',\n",
        "                    input_shape=(X_train_scaled.shape[1],)))\n",
        "\n",
        "    # Add dropout layer with a varying dropout rate\n",
        "    model.add(Dropout(rate=hp.Float('dropout', min_value=0.2, max_value=0.5, step=0.1)))\n",
        "\n",
        "    # Add more dense layers and/or other types of layers\n",
        "    num_hidden_layers = hp.Int('num_hidden_layers', min_value=1, max_value=3, step=1)\n",
        "    for i in range(num_hidden_layers):\n",
        "        model.add(Dense(units=hp.Int(f'units_{i}', min_value=32, max_value=512, step=32),\n",
        "                        activation='relu'))\n",
        "        model.add(Dropout(rate=hp.Float(f'dropout_{i}', min_value=0.2, max_value=0.5, step=0.1)))\n",
        "\n",
        "    # Add the output layer with a single neuron and sigmoid activation\n",
        "    model.add(Dense(1, activation='sigmoid'))\n",
        "\n",
        "    # Define the learning rate for the optimizer\n",
        "    lr = hp.Choice('learning_rate', values=[1e-2, 1e-3, 1e-4])\n",
        "\n",
        "    # Define the optimizer\n",
        "    optimizer = hp.Choice('optimizer', values=['adam', 'rmsprop', 'sgd'])\n",
        "\n",
        "    # Define the batch size\n",
        "    batch_size = hp.Int('batch_size', min_value=32, max_value=128, step=32)\n",
        "\n",
        "    # Define the number of epochs\n",
        "    epochs = hp.Int('epochs', min_value=10, max_value=50, step=10)\n",
        "\n",
        "    # Define the activation function for hidden layers\n",
        "    activation = hp.Choice('activation', values=['relu', 'tanh', 'sigmoid'])\n",
        "\n",
        "    # Define the weight initialization method\n",
        "    init_mode = hp.Choice('init_mode', values=['uniform', 'lecun_uniform', 'he_normal', 'he_uniform'])\n",
        "\n",
        "    # Define the kernel regularizer\n",
        "    kernel_regularizer = hp.Choice('kernel_regularizer', values=['l1', 'l2', 'l1_l2'])\n",
        "\n",
        "    # Compile the model\n",
        "    model.compile(optimizer=optimizer,\n",
        "                  loss='binary_crossentropy',\n",
        "                  metrics=['accuracy', 'Precision'])\n",
        "\n",
        "    return model"
      ]
    },
    {
      "cell_type": "code",
      "execution_count": null,
      "id": "edKYRbG12-au",
      "metadata": {
        "colab": {
          "base_uri": "https://localhost:8080/"
        },
        "id": "edKYRbG12-au",
        "outputId": "efe8244d-0a3a-40ea-bd1c-cb8668a8a56c"
      },
      "outputs": [
        {
          "name": "stderr",
          "output_type": "stream",
          "text": [
            "/usr/local/lib/python3.10/dist-packages/keras/src/layers/core/dense.py:85: UserWarning: Do not pass an `input_shape`/`input_dim` argument to a layer. When using Sequential models, prefer using an `Input(shape)` object as the first layer in the model instead.\n",
            "  super().__init__(activity_regularizer=activity_regularizer, **kwargs)\n"
          ]
        }
      ],
      "source": [
        "tuner = kt.RandomSearch(\n",
        "    build_model,\n",
        "    objective='Precision',\n",
        "    max_trials=50,\n",
        "    directory='my_dir',\n",
        "    project_name='my_project',\n",
        "    overwrite=True\n",
        ")"
      ]
    },
    {
      "cell_type": "code",
      "execution_count": null,
      "id": "-HwsSkzl5qjl",
      "metadata": {
        "colab": {
          "base_uri": "https://localhost:8080/"
        },
        "id": "-HwsSkzl5qjl",
        "outputId": "26c7f6dd-240e-4e3a-86e8-099cd3ca0246"
      },
      "outputs": [
        {
          "name": "stdout",
          "output_type": "stream",
          "text": [
            "Trial 50 Complete [00h 00m 05s]\n",
            "Precision: 0.5589005351066589\n",
            "\n",
            "Best Precision So Far: 0.6222222447395325\n",
            "Total elapsed time: 00h 05m 38s\n"
          ]
        }
      ],
      "source": [
        "tuner.search(X_train, y_train, epochs=20, validation_split=0.2)"
      ]
    },
    {
      "cell_type": "code",
      "execution_count": null,
      "id": "S-CEER0j_bIh",
      "metadata": {
        "id": "S-CEER0j_bIh"
      },
      "outputs": [],
      "source": [
        "best_hps = tuner.get_best_hyperparameters(num_trials=1)[0]"
      ]
    },
    {
      "cell_type": "code",
      "execution_count": null,
      "id": "wm_-LFZb50Lu",
      "metadata": {
        "colab": {
          "base_uri": "https://localhost:8080/"
        },
        "id": "wm_-LFZb50Lu",
        "outputId": "64016ff8-6bfe-4e02-c41c-b009fb6c14c1"
      },
      "outputs": [
        {
          "name": "stdout",
          "output_type": "stream",
          "text": [
            "Optimal Hyperparameters:\n",
            "units: 256\n",
            "dropout: 0.4\n",
            "num_hidden_layers: 3\n",
            "units_0: 416\n",
            "dropout_0: 0.4\n",
            "learning_rate: 0.0001\n",
            "optimizer: sgd\n",
            "batch_size: 128\n",
            "epochs: 40\n",
            "activation: sigmoid\n",
            "init_mode: he_uniform\n",
            "kernel_regularizer: l1_l2\n",
            "units_1: 96\n",
            "dropout_1: 0.30000000000000004\n",
            "units_2: 256\n",
            "dropout_2: 0.2\n"
          ]
        }
      ],
      "source": [
        "print(\"Optimal Hyperparameters:\")\n",
        "for hyperparameter, value in best_hps.values.items():\n",
        "    print(f\"{hyperparameter}: {value}\")"
      ]
    },
    {
      "cell_type": "code",
      "execution_count": null,
      "id": "oP38im0k_j-j",
      "metadata": {
        "id": "oP38im0k_j-j"
      },
      "outputs": [],
      "source": [
        "final_model = tuner.hypermodel.build(best_hps)"
      ]
    },
    {
      "cell_type": "markdown",
      "id": "pGH0G8FP5Bac",
      "metadata": {
        "id": "pGH0G8FP5Bac"
      },
      "source": [
        "#### The best precision we can get from this model is approximately .6222. That's way better than the .52 or .54 we were getting in our early models. That's an improvement of over 18.6% from just playing the odds. The above list of hyperparameters shows the best model that we can create. We can continue to test hyperparameters if we wanted to, but that would risk overfitting. At the moment, this model gives us quite a bit of confidence that it will perform well on future Meta stock."
      ]
    }
  ],
  "metadata": {
    "colab": {
      "provenance": []
    },
    "kernelspec": {
      "display_name": "Python 3 (ipykernel)",
      "language": "python",
      "name": "python3"
    },
    "language_info": {
      "codemirror_mode": {
        "name": "ipython",
        "version": 3
      },
      "file_extension": ".py",
      "mimetype": "text/x-python",
      "name": "python",
      "nbconvert_exporter": "python",
      "pygments_lexer": "ipython3",
      "version": "3.11.8"
    }
  },
  "nbformat": 4,
  "nbformat_minor": 5
}
